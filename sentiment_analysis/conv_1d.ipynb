{
 "cells": [
  {
   "cell_type": "markdown",
   "metadata": {},
   "source": [
    "## Sentiment Analysis on Large Movie Review Dataset"
   ]
  },
  {
   "cell_type": "code",
   "execution_count": 1,
   "metadata": {},
   "outputs": [
    {
     "name": "stderr",
     "output_type": "stream",
     "text": [
      "/home/ubuntu/anaconda3/envs/fastai/lib/python3.6/site-packages/matplotlib/__init__.py:1067: UserWarning: Duplicate key in file \"/home/ubuntu/.config/matplotlib/matplotlibrc\", line #2\n",
      "  (fname, cnt))\n",
      "/home/ubuntu/anaconda3/envs/fastai/lib/python3.6/site-packages/matplotlib/__init__.py:1067: UserWarning: Duplicate key in file \"/home/ubuntu/.config/matplotlib/matplotlibrc\", line #3\n",
      "  (fname, cnt))\n"
     ]
    }
   ],
   "source": [
    "import numpy as np\n",
    "import pandas as pd\n",
    "import os\n",
    "from collections import defaultdict\n",
    "import re\n",
    "import matplotlib.pyplot as plt"
   ]
  },
  {
   "cell_type": "code",
   "execution_count": 2,
   "metadata": {},
   "outputs": [],
   "source": [
    "import torch\n",
    "import torch.nn as nn\n",
    "import torch.nn.functional as F\n",
    "from torch.autograd import Variable as V"
   ]
  },
  {
   "cell_type": "markdown",
   "metadata": {},
   "source": [
    "### Loading data and string cleaning"
   ]
  },
  {
   "cell_type": "code",
   "execution_count": 3,
   "metadata": {},
   "outputs": [
    {
     "data": {
      "text/plain": [
       "[PosixPath('/home/ubuntu/hw2-sentiment-classification-groverpr/aclImdb/train'),\n",
       " PosixPath('/home/ubuntu/hw2-sentiment-classification-groverpr/aclImdb/README'),\n",
       " PosixPath('/home/ubuntu/hw2-sentiment-classification-groverpr/aclImdb/test'),\n",
       " PosixPath('/home/ubuntu/hw2-sentiment-classification-groverpr/aclImdb/imdbEr.txt'),\n",
       " PosixPath('/home/ubuntu/hw2-sentiment-classification-groverpr/aclImdb/imdb.vocab')]"
      ]
     },
     "execution_count": 3,
     "metadata": {},
     "output_type": "execute_result"
    }
   ],
   "source": [
    "from pathlib import Path\n",
    "PATH = Path(\"/home/ubuntu/hw2-sentiment-classification-groverpr/aclImdb\")\n",
    "list(PATH.iterdir())"
   ]
  },
  {
   "cell_type": "code",
   "execution_count": 4,
   "metadata": {},
   "outputs": [],
   "source": [
    "def read_files(path):\n",
    "    \"\"\"\n",
    "    Read text from all files present in path and save them in list of lists\n",
    "    \"\"\"\n",
    "    \n",
    "    all_content = []\n",
    "    for file in os.listdir(path):\n",
    "        with open(path/file, encoding = \"ISO-8859-1\") as f:\n",
    "            content = list(f.readlines())\n",
    "            all_content.append(content)\n",
    "    return all_content"
   ]
  },
  {
   "cell_type": "code",
   "execution_count": 5,
   "metadata": {},
   "outputs": [],
   "source": [
    "# this is from https://github.com/yoonkim/CNN_sentence/blob/master/process_data.py\n",
    "def clean_str(string):\n",
    "    \"\"\"Tokenization/string cleaning. \"\"\"\n",
    "    string = re.sub(r\"[^A-Za-z0-9(),!?\\'\\`]\", \" \", string)     \n",
    "    string = re.sub(r\"\\'s\", \" \\'s\", string) \n",
    "    string = re.sub(r\"\\'ve\", \" \\'ve\", string) \n",
    "    string = re.sub(r\"n\\'t\", \" n\\'t\", string) \n",
    "    string = re.sub(r\"\\'re\", \" \\'re\", string) \n",
    "    string = re.sub(r\"\\'d\", \" \\'d\", string) \n",
    "    string = re.sub(r\"\\'ll\", \" \\'ll\", string) \n",
    "    string = re.sub(r\",\", \" , \", string) \n",
    "    string = re.sub(r\"!\", \" ! \", string) \n",
    "    string = re.sub(r\"\\(\", \" \\( \", string) \n",
    "    string = re.sub(r\"\\)\", \" \\) \", string) \n",
    "    string = re.sub(r\"\\?\", \" \\? \", string) \n",
    "    string = re.sub(r\"\\s{2,}\", \" \", string)    \n",
    "    return string.strip().lower()"
   ]
  },
  {
   "cell_type": "code",
   "execution_count": 6,
   "metadata": {},
   "outputs": [],
   "source": [
    "def get_vocab(list_of_content):\n",
    "    \"\"\"Computes Dict of counts of words.\n",
    "    \n",
    "    Computes the number of times a word is on a document.\n",
    "    \"\"\"\n",
    "    vocab = defaultdict(float)\n",
    "    for content in list_of_content:\n",
    "        for line in content:\n",
    "            line = clean_str(line.strip())\n",
    "            words = set(line.split())\n",
    "            for word in words:\n",
    "                vocab[word] += 1\n",
    "    return vocab"
   ]
  },
  {
   "cell_type": "code",
   "execution_count": 7,
   "metadata": {},
   "outputs": [],
   "source": [
    "pos_rev = read_files(PATH/\"train/pos/\")\n",
    "neg_rev = read_files(PATH/\"train/neg/\")\n",
    "pos_y = np.ones(len(pos_rev))\n",
    "neg_y = np.zeros(len(neg_rev))\n",
    "X = np.append(pos_rev, neg_rev)\n",
    "y = np.append(pos_y, neg_y)"
   ]
  },
  {
   "cell_type": "code",
   "execution_count": 8,
   "metadata": {},
   "outputs": [
    {
     "data": {
      "text/plain": [
       "((12500,), (12500,), (25000,), (25000,))"
      ]
     },
     "execution_count": 8,
     "metadata": {},
     "output_type": "execute_result"
    }
   ],
   "source": [
    "pos_y.shape, neg_y.shape, X.shape, y.shape"
   ]
  },
  {
   "cell_type": "code",
   "execution_count": 9,
   "metadata": {},
   "outputs": [
    {
     "data": {
      "text/plain": [
       "(array([\"I have to say, Seventeen & Missing is much better than I expected. The perception I took from the previews was that it would be just humdrum but I was pleasantly surprised with this impressive mystery.<br /><br />Dedee Pfeiffer is Emilie, a mom who insists her daughter, Lori (Tegan Moss), not attend a so-called graduation party one weeknight, but Lori ignores her mother's wishes and takes off for the party anyway. When Lori does not come home, Emilie knows something is wrong and she begins to have visions of her daughter and the events that led to her disappearance.<br /><br />Seventeen & Missing is better than so many other TV movies of this type, as it is not so predictable. Pfeiffer is the reason to see this movie, and most of it comes off as believable. This LMN Original Movie premiered last night. 10/10\",\n",
       "        \"I sometimes grow weary of reading reviews of some of Hitchcock's lesser known films, because almost every single one starts out with someone saying this film is grossly overlooked or this is a hidden Hitchcock gem or a true Hitchcock great or some other generic if - only - people - would - watch - this - they - would - see - that - this - is - a - great - Hitchcock - film - just - as - much - as - Vertigo - North - by - Northwest - Psycho - Rear - Window - etc. So, that being said, I would just like to say that if - only - people - would - watch - this - they - would - see - that - this - is - a - great - Hitchcock - film - just - as - much - as - Vertigo - North - by - Northwest - Psycho - Rear - Window - etc.<br /><br />Now, that may be overshooting a little bit, The Ring is not by any stretch of the imagination even in the same league as any of those films mentioned twice above, but compared to the other films that Hitchcock made in the late 1920s and early 1930s, I really think that The Ring is one of the best photographed and performed films of mostly all of them. As an almost brand new director, there are some astonishing dream sequences and brilliant segments of editing which show why Hitchcock was generating so much attention early in his career.<br /><br />Granted, the film does start with, among other things, the highly disturbing spectacle of an idiot black circus performer (and I use idiot in the definitive manner, the way Stephen King so often does) having eggs and fruit thrown at him by a crowd of not the classiest looking white people. I suppose this only illustrates how incredibly different such circuses and people were back then, but I think it is one of the most off-putting sequences in any Hitchcock film I've seen.<br /><br />The main attraction at the circus is a fighter who claims to be able to knock any man down in one round, but when he meets his match, it is against a man that challenges his authority not only in the boxing ring but also in the ring around his wife's finger. So begins an entertaining if not very tense challenge for the love of one woman, who seems to sway from one man to the other effortlessly and thoughtlessly.<br /><br />(spoilers) There is, for example, a scene where her husband watches her from above as she is dropped off at home late at night and, just before going into the building, she is coaxed back to the car for a kiss. This kiss is never explained, and there is also the fact that, even at the end when she proves faithful to her husband, or at least ultimately chooses him, they look into each other's eyes but do not actually kiss.<br /><br />The film is certainly beautifully photographed, even more so than several films that Hitch released in subsequent years. There is also a performance by Gordon Harker as One Round Jack's trainer who, in his stone faced expressionism, reminds me quite often of the brilliant Buster Keaton. Hitch leaves it a bit ambiguous, but this is a great sample of his early work.\"],\n",
       "       dtype='<U13704'), array([1., 1.]))"
      ]
     },
     "execution_count": 9,
     "metadata": {},
     "output_type": "execute_result"
    }
   ],
   "source": [
    "X[:2], y[:2]"
   ]
  },
  {
   "cell_type": "code",
   "execution_count": 10,
   "metadata": {},
   "outputs": [],
   "source": [
    "from sklearn.model_selection import train_test_split"
   ]
  },
  {
   "cell_type": "code",
   "execution_count": 11,
   "metadata": {},
   "outputs": [],
   "source": [
    "X_train, X_test, y_train, y_test = train_test_split(X, y, test_size=0.2, random_state=42)"
   ]
  },
  {
   "cell_type": "code",
   "execution_count": 12,
   "metadata": {},
   "outputs": [],
   "source": [
    "# getting vocab from training sets\n",
    "data_vocab = get_vocab([X_train])"
   ]
  },
  {
   "cell_type": "markdown",
   "metadata": {},
   "source": [
    "### Initializing embedding layer with Glove embeddings"
   ]
  },
  {
   "cell_type": "code",
   "execution_count": 13,
   "metadata": {},
   "outputs": [
    {
     "name": "stdout",
     "output_type": "stream",
     "text": [
      "the 0.418 0.24968 -0.41242 0.1217 0.34527 -0.044457 -0.49688 -0.17862 -0.00066023 -0.6566 0.27843 -0.14767 -0.55677 0.14658 -0.0095095 0.011658 0.10204 -0.12792 -0.8443 -0.12181 -0.016801 -0.33279 -0.1552 -0.23131 -0.19181 -1.8823 -0.76746 0.099051 -0.42125 -0.19526 4.0071 -0.18594 -0.52287 -0.31681 0.00059213 0.0074449 0.17778 -0.15897 0.012041 -0.054223 -0.29871 -0.15749 -0.34758 -0.045637 -0.44251 0.18785 0.0027849 -0.18411 -0.11514 -0.78581\r\n"
     ]
    }
   ],
   "source": [
    "! head -1 /home/ubuntu/hw2-sentiment-classification-groverpr/glove.6B.50d.txt"
   ]
  },
  {
   "cell_type": "markdown",
   "metadata": {},
   "source": [
    "We would like to initialize the embeddings from our model with the pre-trained Glove embeddings. After initializing we should \"freeze\" the embeddings at least initially. The rationale is that we first want the network to learn weights for the other parameters that were randomly initialize. After that phase we could finetune the embeddings to our task.\n",
    "\n",
    "`embed.weight.requires_grad = False` freezes the embedding parameters.\n",
    "\n",
    "The following code initializes the embedding. Here V is the vocabulary size and D is the embedding size. pretrained_weight is a numpy matrix of shape (V, D)."
   ]
  },
  {
   "cell_type": "code",
   "execution_count": 14,
   "metadata": {},
   "outputs": [],
   "source": [
    "def loadGloveModel(gloveFile=\"/home/ubuntu/hw2-sentiment-classification-groverpr/glove.6B.100d.txt\"):\n",
    "    \"\"\" Loads word vectors into a dictionary.\"\"\"\n",
    "    f = open(gloveFile,'r')\n",
    "    word_vecs = {}\n",
    "    for line in f:\n",
    "        splitLine = line.split()\n",
    "        word = splitLine[0]\n",
    "        word_vecs[word] = np.array([float(val) for val in splitLine[1:]])\n",
    "    return word_vecs"
   ]
  },
  {
   "cell_type": "code",
   "execution_count": 15,
   "metadata": {},
   "outputs": [],
   "source": [
    "word_vecs = loadGloveModel()"
   ]
  },
  {
   "cell_type": "code",
   "execution_count": 16,
   "metadata": {},
   "outputs": [
    {
     "name": "stdout",
     "output_type": "stream",
     "text": [
      "400000 73990\n"
     ]
    }
   ],
   "source": [
    "print(len(word_vecs.keys()), len(data_vocab.keys()))"
   ]
  },
  {
   "cell_type": "code",
   "execution_count": 17,
   "metadata": {},
   "outputs": [],
   "source": [
    "def delete_rare_words(word_vecs, data_vocab, min_df=2):\n",
    "    \"\"\" Deletes rare words from data_vocab\n",
    "    \n",
    "    Deletes words from data_vocab if they are not in word_vecs\n",
    "    and don't have at least min_df occurrencies in data_vocab.\n",
    "    \"\"\"\n",
    "    words_delete = []\n",
    "    for word in data_vocab:\n",
    "        if data_vocab[word] < min_df and word not in word_vecs:\n",
    "            words_delete.append(word)\n",
    "#     print(words_delete)\n",
    "    for word in words_delete: data_vocab.pop(word)\n",
    "    return data_vocab"
   ]
  },
  {
   "cell_type": "code",
   "execution_count": 18,
   "metadata": {},
   "outputs": [
    {
     "data": {
      "text/plain": [
       "73990"
      ]
     },
     "execution_count": 18,
     "metadata": {},
     "output_type": "execute_result"
    }
   ],
   "source": [
    "len(data_vocab.keys())"
   ]
  },
  {
   "cell_type": "code",
   "execution_count": 19,
   "metadata": {
    "scrolled": false
   },
   "outputs": [],
   "source": [
    "# clean up issues here\n",
    "data_vocab = delete_rare_words(word_vecs, data_vocab, min_df=2)"
   ]
  },
  {
   "cell_type": "code",
   "execution_count": 20,
   "metadata": {},
   "outputs": [
    {
     "data": {
      "text/plain": [
       "59526"
      ]
     },
     "execution_count": 20,
     "metadata": {},
     "output_type": "execute_result"
    }
   ],
   "source": [
    "len(data_vocab)"
   ]
  },
  {
   "cell_type": "code",
   "execution_count": 21,
   "metadata": {},
   "outputs": [],
   "source": [
    "def create_embedding_matrix(word_vecs, data_vocab, min_df=2, D=100):\n",
    "    \"\"\"Creates embedding matrix from word vectors. \"\"\"\n",
    "    data_vocab = delete_rare_words(word_vecs, data_vocab, min_df)\n",
    "    V = len(data_vocab.keys()) + 2\n",
    "    vocab2index = {}\n",
    "    W = np.zeros((V, D), dtype=\"float32\")\n",
    "    vocab = [\"\", \"unk\"]\n",
    "    # adding a vector for padding\n",
    "    W[0] = np.zeros(D, dtype='float32') # first vector\n",
    "    # adding a vector for rare words \n",
    "    W[1] = np.random.uniform(-0.25,0.25,D) # second vector\n",
    "    vocab2index[\"unk\"] = 1\n",
    "    i = 2\n",
    "    for word in data_vocab:\n",
    "        if word in word_vecs:\n",
    "            W[i] = word_vecs[word]\n",
    "            vocab2index[word] = i\n",
    "            vocab.append(word)\n",
    "            i += 1\n",
    "        else: # words for which we couldn't find an embeddng\n",
    "            W[i] = np.random.uniform(-0.25,0.25,D)\n",
    "            vocab2index[word] = i\n",
    "            vocab.append(word)\n",
    "            i += 1   \n",
    "    return W, np.array(vocab), vocab2index\n"
   ]
  },
  {
   "cell_type": "code",
   "execution_count": 22,
   "metadata": {},
   "outputs": [],
   "source": [
    "pretrained_weight, vocab, vocab2index = create_embedding_matrix(word_vecs, data_vocab)"
   ]
  },
  {
   "cell_type": "code",
   "execution_count": 23,
   "metadata": {},
   "outputs": [
    {
     "data": {
      "text/plain": [
       "59528"
      ]
     },
     "execution_count": 23,
     "metadata": {},
     "output_type": "execute_result"
    }
   ],
   "source": [
    "len(pretrained_weight) # note that index 0 is for padding"
   ]
  },
  {
   "cell_type": "code",
   "execution_count": 24,
   "metadata": {},
   "outputs": [
    {
     "data": {
      "text/plain": [
       "\n",
       " 0.0000  0.0000  0.0000  ...   0.0000  0.0000  0.0000\n",
       " 0.1347  0.2155 -0.0796  ...  -0.1745  0.2082 -0.0251\n",
       "-0.0394 -0.4136 -0.3717  ...   0.1673 -0.0799  0.3219\n",
       "          ...             ⋱             ...          \n",
       " 0.7739 -0.6130 -0.4644  ...   0.5705 -0.8239  0.3046\n",
       " 0.0805 -0.4075 -0.3767  ...  -0.0297 -0.6540 -0.2768\n",
       "-0.1604  0.0403 -0.7888  ...   0.0545 -0.9363 -0.9908\n",
       "[torch.FloatTensor of size 59528x100]"
      ]
     },
     "execution_count": 24,
     "metadata": {},
     "output_type": "execute_result"
    }
   ],
   "source": [
    "D = 100\n",
    "V = len(pretrained_weight)\n",
    "emb = nn.Embedding(V, D)\n",
    "emb.weight.data.copy_(torch.from_numpy(pretrained_weight))"
   ]
  },
  {
   "cell_type": "markdown",
   "metadata": {},
   "source": [
    "### Encoding training and validation sets"
   ]
  },
  {
   "cell_type": "markdown",
   "metadata": {},
   "source": [
    "We will be using 1D Convolutional neural networks as our model. CNNs assume a fixed input size so we need to assume a fixed size and truncate or pad the sentences as needed. Let's find a good value to set our sequence length to"
   ]
  },
  {
   "cell_type": "code",
   "execution_count": 25,
   "metadata": {},
   "outputs": [],
   "source": [
    "x_len = np.array([len(x.split()) for x in X_train])"
   ]
  },
  {
   "cell_type": "code",
   "execution_count": 26,
   "metadata": {},
   "outputs": [
    {
     "data": {
      "text/plain": [
       "594.0"
      ]
     },
     "execution_count": 26,
     "metadata": {},
     "output_type": "execute_result"
    }
   ],
   "source": [
    "np.percentile(x_len, 95) # let set the max sequence len to N=40"
   ]
  },
  {
   "cell_type": "code",
   "execution_count": 27,
   "metadata": {},
   "outputs": [
    {
     "data": {
      "text/plain": [
       "'Being a big fan of the \"other\" PLANET OF THE APES films, I rented this DVD despite my aversion to all things Tim Burton. Once again, he doesn\\'t fail to disappoint with his uninspired direction. Even the ape makeup looks second rate, which is unforgivable considering the monstrous budget of this monstrosity. Mark Wahlberg proves once and for all that he is not an actor (as if BOOGIE NIGHTS wasn\\'t proof enough). I was embarrassed for genuine talents such as Tim Roth and Helena Bonham Carter. No doubt their paychecks motivated them since it couldn\\'t possibly have been the cliche-ridden screenplay. I rented this DVD on a special $1 night and I still feel ripped off.'"
      ]
     },
     "execution_count": 27,
     "metadata": {},
     "output_type": "execute_result"
    }
   ],
   "source": [
    "X_train[0]"
   ]
  },
  {
   "cell_type": "code",
   "execution_count": 28,
   "metadata": {},
   "outputs": [
    {
     "data": {
      "text/plain": [
       "670"
      ]
     },
     "execution_count": 28,
     "metadata": {},
     "output_type": "execute_result"
    }
   ],
   "source": [
    "len(X_train[0])"
   ]
  },
  {
   "cell_type": "code",
   "execution_count": 29,
   "metadata": {},
   "outputs": [
    {
     "data": {
      "text/plain": [
       "407"
      ]
     },
     "execution_count": 29,
     "metadata": {},
     "output_type": "execute_result"
    }
   ],
   "source": [
    "# returns the index of the word or the index of \"UNK\" otherwise\n",
    "vocab2index.get(\"will\", vocab2index[\"unk\"])"
   ]
  },
  {
   "cell_type": "code",
   "execution_count": 30,
   "metadata": {},
   "outputs": [
    {
     "data": {
      "text/plain": [
       "array([    1,    94,    77,    26,    15,    84,     1,     1,     1,\n",
       "           1,     1,     1,     1,    54,    22,     1,    50,    48,\n",
       "          53,    86,    24,    31,     1,     1,     1,     1,    23,\n",
       "       27037,    78,    86,    19,    79,    34,    55,     1,     1,\n",
       "          84,    75,    52,    49,    97,     1,    21,    85,    69,\n",
       "          44,    84,    30,     5,    15,    22,     1,     1,     1,\n",
       "          25,     7,    42,    46,    24,    71,    23,    85,    29,\n",
       "          80,    17,     1,    13,     1,     1, 16942,    83,     1,\n",
       "           1,    88,    39,    46,    65,     8,    95,    37,     1,\n",
       "           1,    42,     1,     1,     1,     1,     3,    32,    12,\n",
       "          27,    74,     6,    56, 43297,    47,    11,    38,    84,\n",
       "           1,     1,     1,    54,    22,     1,    28,    94,    82,\n",
       "           1,    91,    42,     1,     4,    93,    63,     1])"
      ]
     },
     "execution_count": 30,
     "metadata": {},
     "output_type": "execute_result"
    }
   ],
   "source": [
    "np.array([vocab2index.get(w, vocab2index[\"unk\"]) for w in X_train[0].split()])"
   ]
  },
  {
   "cell_type": "code",
   "execution_count": 31,
   "metadata": {},
   "outputs": [],
   "source": [
    "def encode_sentence(s, N=590):\n",
    "    enc = np.zeros(N, dtype=np.int32)\n",
    "    enc1 = np.array([vocab2index.get(w, vocab2index[\"unk\"]) for w in s.split()])\n",
    "    t = min(N, len(enc1))\n",
    "    enc[:t] = enc1[:t]\n",
    "    return enc"
   ]
  },
  {
   "cell_type": "code",
   "execution_count": 32,
   "metadata": {},
   "outputs": [
    {
     "data": {
      "text/plain": [
       "array([    1,    94,    77,    26,    15,    84,     1,     1,     1,\n",
       "           1,     1,     1,     1,    54,    22,     1,    50,    48,\n",
       "          53,    86,    24,    31,     1,     1,     1,     1,    23,\n",
       "       27037,    78,    86,    19,    79,    34,    55,     1,     1,\n",
       "          84,    75,    52,    49,    97,     1,    21,    85,    69,\n",
       "          44,    84,    30,     5,    15,    22,     1,     1,     1,\n",
       "          25,     7,    42,    46,    24,    71,    23,    85,    29,\n",
       "          80,    17,     1,    13,     1,     1, 16942,    83,     1,\n",
       "           1,    88,    39,    46,    65,     8,    95,    37,     1,\n",
       "           1,    42,     1,     1,     1,     1,     3,    32,    12,\n",
       "          27,    74,     6,    56, 43297,    47,    11,    38,    84,\n",
       "           1,     1,     1,    54,    22,     1,    28,    94,    82,\n",
       "           1,    91,    42,     1,     4,    93,    63,     1,     0,\n",
       "           0,     0,     0,     0,     0,     0,     0,     0,     0,\n",
       "           0,     0,     0,     0,     0,     0,     0,     0,     0,\n",
       "           0,     0,     0,     0,     0,     0,     0,     0,     0,\n",
       "           0,     0,     0,     0,     0,     0,     0,     0,     0,\n",
       "           0,     0,     0,     0,     0,     0,     0,     0,     0,\n",
       "           0,     0,     0,     0,     0,     0,     0,     0,     0,\n",
       "           0,     0,     0,     0,     0,     0,     0,     0,     0,\n",
       "           0,     0,     0,     0,     0,     0,     0,     0,     0,\n",
       "           0,     0,     0,     0,     0,     0,     0,     0,     0,\n",
       "           0,     0,     0,     0,     0,     0,     0,     0,     0,\n",
       "           0,     0,     0,     0,     0,     0,     0,     0,     0,\n",
       "           0,     0,     0,     0,     0,     0,     0,     0,     0,\n",
       "           0,     0,     0,     0,     0,     0,     0,     0,     0,\n",
       "           0,     0,     0,     0,     0,     0,     0,     0,     0,\n",
       "           0,     0,     0,     0,     0,     0,     0,     0,     0,\n",
       "           0,     0,     0,     0,     0,     0,     0,     0,     0,\n",
       "           0,     0,     0,     0,     0,     0,     0,     0,     0,\n",
       "           0,     0,     0,     0,     0,     0,     0,     0,     0,\n",
       "           0,     0,     0,     0,     0,     0,     0,     0,     0,\n",
       "           0,     0,     0,     0,     0,     0,     0,     0,     0,\n",
       "           0,     0,     0,     0,     0,     0,     0,     0,     0,\n",
       "           0,     0,     0,     0,     0,     0,     0,     0,     0,\n",
       "           0,     0,     0,     0,     0,     0,     0,     0,     0,\n",
       "           0,     0,     0,     0,     0,     0,     0,     0,     0,\n",
       "           0,     0,     0,     0,     0,     0,     0,     0,     0,\n",
       "           0,     0,     0,     0,     0,     0,     0,     0,     0,\n",
       "           0,     0,     0,     0,     0,     0,     0,     0,     0,\n",
       "           0,     0,     0,     0,     0,     0,     0,     0,     0,\n",
       "           0,     0,     0,     0,     0,     0,     0,     0,     0,\n",
       "           0,     0,     0,     0,     0,     0,     0,     0,     0,\n",
       "           0,     0,     0,     0,     0,     0,     0,     0,     0,\n",
       "           0,     0,     0,     0,     0,     0,     0,     0,     0,\n",
       "           0,     0,     0,     0,     0,     0,     0,     0,     0,\n",
       "           0,     0,     0,     0,     0,     0,     0,     0,     0,\n",
       "           0,     0,     0,     0,     0,     0,     0,     0,     0,\n",
       "           0,     0,     0,     0,     0,     0,     0,     0,     0,\n",
       "           0,     0,     0,     0,     0,     0,     0,     0,     0,\n",
       "           0,     0,     0,     0,     0,     0,     0,     0,     0,\n",
       "           0,     0,     0,     0,     0,     0,     0,     0,     0,\n",
       "           0,     0,     0,     0,     0,     0,     0,     0,     0,\n",
       "           0,     0,     0,     0,     0,     0,     0,     0,     0,\n",
       "           0,     0,     0,     0,     0,     0,     0,     0,     0,\n",
       "           0,     0,     0,     0,     0,     0,     0,     0,     0,\n",
       "           0,     0,     0,     0,     0,     0,     0,     0,     0,\n",
       "           0,     0,     0,     0,     0,     0,     0,     0,     0,\n",
       "           0,     0,     0,     0,     0,     0,     0,     0,     0,\n",
       "           0,     0,     0,     0,     0,     0,     0,     0,     0,\n",
       "           0,     0,     0,     0,     0,     0,     0,     0,     0,\n",
       "           0,     0,     0,     0,     0,     0,     0,     0,     0,\n",
       "           0,     0,     0,     0,     0,     0,     0,     0,     0,\n",
       "           0,     0,     0,     0,     0,     0,     0,     0,     0,\n",
       "           0,     0,     0,     0,     0,     0,     0,     0,     0,\n",
       "           0,     0,     0,     0,     0], dtype=int32)"
      ]
     },
     "execution_count": 32,
     "metadata": {},
     "output_type": "execute_result"
    }
   ],
   "source": [
    "encode_sentence(X_train[0])"
   ]
  },
  {
   "cell_type": "code",
   "execution_count": 33,
   "metadata": {},
   "outputs": [
    {
     "data": {
      "text/plain": [
       "(20000, 590)"
      ]
     },
     "execution_count": 33,
     "metadata": {},
     "output_type": "execute_result"
    }
   ],
   "source": [
    "x_train = np.vstack([encode_sentence(x) for x in X_train])\n",
    "x_train.shape"
   ]
  },
  {
   "cell_type": "code",
   "execution_count": 34,
   "metadata": {},
   "outputs": [
    {
     "data": {
      "text/plain": [
       "(5000, 590)"
      ]
     },
     "execution_count": 34,
     "metadata": {},
     "output_type": "execute_result"
    }
   ],
   "source": [
    "x_test = np.vstack([encode_sentence(x) for x in X_test])\n",
    "x_test.shape"
   ]
  },
  {
   "cell_type": "markdown",
   "metadata": {},
   "source": [
    "### Playing and debugging CNN layers"
   ]
  },
  {
   "cell_type": "code",
   "execution_count": 35,
   "metadata": {},
   "outputs": [],
   "source": [
    "W = len(pretrained_weight)\n",
    "D = 100\n",
    "N = 40"
   ]
  },
  {
   "cell_type": "code",
   "execution_count": 36,
   "metadata": {},
   "outputs": [
    {
     "data": {
      "text/plain": [
       "(59528, 100)"
      ]
     },
     "execution_count": 36,
     "metadata": {},
     "output_type": "execute_result"
    }
   ],
   "source": [
    "pretrained_weight.shape"
   ]
  },
  {
   "cell_type": "code",
   "execution_count": 37,
   "metadata": {},
   "outputs": [
    {
     "data": {
      "text/plain": [
       "\n",
       " 0.0000  0.0000  0.0000  ...   0.0000  0.0000  0.0000\n",
       " 0.1347  0.2155 -0.0796  ...  -0.1745  0.2082 -0.0251\n",
       "-0.0394 -0.4136 -0.3717  ...   0.1673 -0.0799  0.3219\n",
       "          ...             ⋱             ...          \n",
       " 0.7739 -0.6130 -0.4644  ...   0.5705 -0.8239  0.3046\n",
       " 0.0805 -0.4075 -0.3767  ...  -0.0297 -0.6540 -0.2768\n",
       "-0.1604  0.0403 -0.7888  ...   0.0545 -0.9363 -0.9908\n",
       "[torch.FloatTensor of size 59528x100]"
      ]
     },
     "execution_count": 37,
     "metadata": {},
     "output_type": "execute_result"
    }
   ],
   "source": [
    "emb = nn.Embedding(W, D)\n",
    "emb.weight.data.copy_(torch.from_numpy(pretrained_weight))"
   ]
  },
  {
   "cell_type": "code",
   "execution_count": 38,
   "metadata": {},
   "outputs": [
    {
     "data": {
      "text/plain": [
       "(2, 590)"
      ]
     },
     "execution_count": 38,
     "metadata": {},
     "output_type": "execute_result"
    }
   ],
   "source": [
    "x = x_train[:2]\n",
    "x.shape"
   ]
  },
  {
   "cell_type": "code",
   "execution_count": 39,
   "metadata": {},
   "outputs": [
    {
     "data": {
      "text/plain": [
       "\n",
       "     1     94     77  ...       0      0      0\n",
       "     1    146     86  ...       0      0      0\n",
       "[torch.LongTensor of size 2x590]"
      ]
     },
     "execution_count": 39,
     "metadata": {},
     "output_type": "execute_result"
    }
   ],
   "source": [
    "x = torch.LongTensor(x)\n",
    "x"
   ]
  },
  {
   "cell_type": "code",
   "execution_count": 40,
   "metadata": {},
   "outputs": [],
   "source": [
    "from torch.autograd import Variable as V"
   ]
  },
  {
   "cell_type": "code",
   "execution_count": 41,
   "metadata": {},
   "outputs": [
    {
     "data": {
      "text/plain": [
       "torch.Size([2, 590, 100])"
      ]
     },
     "execution_count": 41,
     "metadata": {},
     "output_type": "execute_result"
    }
   ],
   "source": [
    "x1 = emb(V(x))\n",
    "x1.shape"
   ]
  },
  {
   "cell_type": "code",
   "execution_count": 42,
   "metadata": {},
   "outputs": [
    {
     "data": {
      "text/plain": [
       "torch.Size([2, 100, 590])"
      ]
     },
     "execution_count": 42,
     "metadata": {},
     "output_type": "execute_result"
    }
   ],
   "source": [
    "x1 = x1.transpose(1,2)  # needs to convert x to (batch, embedding_dim, sentence_len)\n",
    "x1.size()"
   ]
  },
  {
   "cell_type": "code",
   "execution_count": 43,
   "metadata": {},
   "outputs": [],
   "source": [
    "conv_3 = nn.Conv1d(in_channels=D, out_channels=50, kernel_size=3)"
   ]
  },
  {
   "cell_type": "code",
   "execution_count": 44,
   "metadata": {},
   "outputs": [],
   "source": [
    "x3 = conv_3(x1)"
   ]
  },
  {
   "cell_type": "code",
   "execution_count": 45,
   "metadata": {},
   "outputs": [
    {
     "data": {
      "text/plain": [
       "torch.Size([2, 50, 588])"
      ]
     },
     "execution_count": 45,
     "metadata": {},
     "output_type": "execute_result"
    }
   ],
   "source": [
    "x3.size()"
   ]
  },
  {
   "cell_type": "code",
   "execution_count": 46,
   "metadata": {},
   "outputs": [],
   "source": [
    "conv_4 = nn.Conv1d(in_channels=D, out_channels=50, kernel_size=4)\n",
    "conv_5 = nn.Conv1d(in_channels=D, out_channels=50, kernel_size=5)"
   ]
  },
  {
   "cell_type": "code",
   "execution_count": 47,
   "metadata": {},
   "outputs": [
    {
     "name": "stdout",
     "output_type": "stream",
     "text": [
      "torch.Size([2, 50, 587]) torch.Size([2, 50, 586])\n"
     ]
    }
   ],
   "source": [
    "x4 = conv_4(x1)\n",
    "x5 = conv_5(x1)\n",
    "print(x4.size(), x5.size())"
   ]
  },
  {
   "cell_type": "markdown",
   "metadata": {},
   "source": [
    "The convolution all apply to the same x1. How do we combine now the results of the convolutions?"
   ]
  },
  {
   "cell_type": "code",
   "execution_count": 48,
   "metadata": {},
   "outputs": [
    {
     "data": {
      "text/plain": [
       "torch.Size([2, 50, 1])"
      ]
     },
     "execution_count": 48,
     "metadata": {},
     "output_type": "execute_result"
    }
   ],
   "source": [
    "# 100 3-gram detectors # 100 3-g \n",
    "x3 = nn.ReLU()(x3)\n",
    "x3 = nn.MaxPool1d(kernel_size = 588)(x3)\n",
    "x3.size()"
   ]
  },
  {
   "cell_type": "code",
   "execution_count": 49,
   "metadata": {},
   "outputs": [
    {
     "data": {
      "text/plain": [
       "torch.Size([2, 50, 1])"
      ]
     },
     "execution_count": 49,
     "metadata": {},
     "output_type": "execute_result"
    }
   ],
   "source": [
    "# 100 4-gram detectors\n",
    "x4 = nn.ReLU()(x4)\n",
    "x4 = nn.MaxPool1d(kernel_size = 587)(x4)\n",
    "x4.size()"
   ]
  },
  {
   "cell_type": "code",
   "execution_count": 50,
   "metadata": {},
   "outputs": [
    {
     "data": {
      "text/plain": [
       "torch.Size([2, 50, 1])"
      ]
     },
     "execution_count": 50,
     "metadata": {},
     "output_type": "execute_result"
    }
   ],
   "source": [
    "# 100 5-gram detectors\n",
    "x5 = nn.ReLU()(x5)\n",
    "x5 = nn.MaxPool1d(kernel_size = 586)(x5)\n",
    "x5.size()"
   ]
  },
  {
   "cell_type": "code",
   "execution_count": 51,
   "metadata": {},
   "outputs": [
    {
     "data": {
      "text/plain": [
       "torch.Size([2, 50, 3])"
      ]
     },
     "execution_count": 51,
     "metadata": {},
     "output_type": "execute_result"
    }
   ],
   "source": [
    "# concatenate x3, x4, x5\n",
    "out = torch.cat([x3, x4, x5], 2)\n",
    "out.size()"
   ]
  },
  {
   "cell_type": "code",
   "execution_count": 52,
   "metadata": {},
   "outputs": [
    {
     "data": {
      "text/plain": [
       "torch.Size([2, 150])"
      ]
     },
     "execution_count": 52,
     "metadata": {},
     "output_type": "execute_result"
    }
   ],
   "source": [
    "out = out.view(out.size(0), -1)\n",
    "out.size()"
   ]
  },
  {
   "cell_type": "markdown",
   "metadata": {},
   "source": [
    "After this we have a fully connected network. Let's write a network that implements this."
   ]
  },
  {
   "cell_type": "markdown",
   "metadata": {},
   "source": [
    "### Dataset "
   ]
  },
  {
   "cell_type": "code",
   "execution_count": 53,
   "metadata": {},
   "outputs": [],
   "source": [
    "import torch\n",
    "from torch.utils import data\n",
    "\n",
    "class Dataset(data.Dataset):\n",
    "    \n",
    "    'Characterizes a dataset for PyTorch'\n",
    "    def __init__(self, x, y):\n",
    "        'Initialization'\n",
    "        self.x = x\n",
    "        self.y = y\n",
    "    \n",
    "    def __len__(self):\n",
    "        'Denotes the total number of samples'\n",
    "        return len(self.y)\n",
    "    \n",
    "    def __getitem__(self, index):\n",
    "        'Generates one sample of data'\n",
    "        # Select sample\n",
    "        review = self.x[index]\n",
    "        sentiment = self.y[index]\n",
    "        return review, sentiment"
   ]
  },
  {
   "cell_type": "code",
   "execution_count": 54,
   "metadata": {},
   "outputs": [
    {
     "data": {
      "text/plain": [
       "(20000,)"
      ]
     },
     "execution_count": 54,
     "metadata": {},
     "output_type": "execute_result"
    }
   ],
   "source": [
    "y_train.shape"
   ]
  },
  {
   "cell_type": "code",
   "execution_count": 55,
   "metadata": {},
   "outputs": [
    {
     "data": {
      "text/plain": [
       "(20000, 590)"
      ]
     },
     "execution_count": 55,
     "metadata": {},
     "output_type": "execute_result"
    }
   ],
   "source": [
    "x_train.shape"
   ]
  },
  {
   "cell_type": "code",
   "execution_count": 56,
   "metadata": {},
   "outputs": [],
   "source": [
    "train_reviews = torch.LongTensor(x_train)\n",
    "train_sentiment = torch.FloatTensor(y_train)\n",
    "\n",
    "train_dataset = Dataset(train_reviews, train_sentiment)\n",
    "\n",
    "train_loader = torch.utils.data.DataLoader(train_dataset, batch_size=64, shuffle=True)"
   ]
  },
  {
   "cell_type": "code",
   "execution_count": 57,
   "metadata": {},
   "outputs": [],
   "source": [
    "x,y=next(iter(train_loader))"
   ]
  },
  {
   "cell_type": "code",
   "execution_count": 58,
   "metadata": {},
   "outputs": [
    {
     "data": {
      "text/plain": [
       "\n",
       "     1     84   3484  ...       0      0      0\n",
       "     1  14856     20  ...       0      0      0\n",
       "     1      1  23693  ...       0      0      0\n",
       "        ...            ⋱           ...         \n",
       "     1    370   1094  ...       0      0      0\n",
       "     1   1787     85  ...       0      0      0\n",
       "     1    177   1495  ...       0      0      0\n",
       "[torch.LongTensor of size 64x590]"
      ]
     },
     "execution_count": 58,
     "metadata": {},
     "output_type": "execute_result"
    }
   ],
   "source": [
    "x"
   ]
  },
  {
   "cell_type": "code",
   "execution_count": 59,
   "metadata": {},
   "outputs": [
    {
     "data": {
      "text/plain": [
       "\n",
       " 1\n",
       " 0\n",
       " 1\n",
       " 0\n",
       "[torch.DoubleTensor of size 4]"
      ]
     },
     "execution_count": 59,
     "metadata": {},
     "output_type": "execute_result"
    }
   ],
   "source": [
    "y[:4]"
   ]
  },
  {
   "cell_type": "code",
   "execution_count": 60,
   "metadata": {},
   "outputs": [],
   "source": [
    "test_reviews = torch.LongTensor(x_test)\n",
    "test_sentiment = torch.FloatTensor(y_test)\n",
    "\n",
    "test_dataset = Dataset(test_reviews, test_sentiment)\n",
    "\n",
    "test_loader = torch.utils.data.DataLoader(test_dataset, batch_size=64, shuffle=True)"
   ]
  },
  {
   "cell_type": "markdown",
   "metadata": {},
   "source": [
    "### 1D CNN model for sentence classification"
   ]
  },
  {
   "cell_type": "markdown",
   "metadata": {},
   "source": [
    "Notation:\n",
    "\n",
    "W -- vocabulary size\n",
    "D -- embedding size\n",
    "N -- MAX Sentence length"
   ]
  },
  {
   "cell_type": "code",
   "execution_count": 61,
   "metadata": {},
   "outputs": [],
   "source": [
    "class SentenceCNN(nn.Module):\n",
    "    \n",
    "    def __init__(self, W, D, glove_weights):\n",
    "        super(SentenceCNN, self).__init__()\n",
    "        self.glove_weights = glove_weights\n",
    "        self.embedding = nn.Embedding(W, D, padding_idx=0)\n",
    "        self.embedding.weight.data.copy_(torch.from_numpy(self.glove_weights))\n",
    "        self.embedding.weight.requires_grad = False ## freeze embeddings\n",
    "\n",
    "        self.conv_3 = nn.Conv1d(in_channels=D, out_channels=50, kernel_size=3)\n",
    "        self.conv_4 = nn.Conv1d(in_channels=D, out_channels=50, kernel_size=4)\n",
    "        self.conv_5 = nn.Conv1d(in_channels=D, out_channels=50, kernel_size=5)\n",
    "        \n",
    "        self.dropout = nn.Dropout(p=0.5)\n",
    "        self.fc = nn.Linear(150, 1)\n",
    "        \n",
    "    def forward(self, x):\n",
    "        x = self.embedding(x)\n",
    "        x = x.transpose(1,2)\n",
    "        x3 = F.relu(self.conv_3(x))\n",
    "        x4 = F.relu(self.conv_4(x))\n",
    "        x5 = F.relu(self.conv_5(x))\n",
    "        x3 = nn.MaxPool1d(kernel_size = 588)(x3)\n",
    "        x4 = nn.MaxPool1d(kernel_size = 587)(x4)\n",
    "        x5 = nn.MaxPool1d(kernel_size = 586)(x5)\n",
    "        out = torch.cat([x3, x4, x5], 2)\n",
    "        out = out.view(out.size(0), -1)\n",
    "        out = self.dropout(out)\n",
    "        return self.fc(out)"
   ]
  },
  {
   "cell_type": "code",
   "execution_count": 62,
   "metadata": {},
   "outputs": [],
   "source": [
    "W = len(pretrained_weight)\n",
    "D = 100\n",
    "N = 590\n",
    "model = SentenceCNN(W, D, glove_weights=pretrained_weight)"
   ]
  },
  {
   "cell_type": "code",
   "execution_count": 63,
   "metadata": {},
   "outputs": [
    {
     "name": "stdout",
     "output_type": "stream",
     "text": [
      "(10, 590)\n"
     ]
    }
   ],
   "source": [
    "# testing the model\n",
    "x = x_train[:10]\n",
    "print(x.shape)\n",
    "x = torch.LongTensor(x)"
   ]
  },
  {
   "cell_type": "code",
   "execution_count": 64,
   "metadata": {},
   "outputs": [
    {
     "data": {
      "text/plain": [
       "torch.Size([10, 1])"
      ]
     },
     "execution_count": 64,
     "metadata": {},
     "output_type": "execute_result"
    }
   ],
   "source": [
    "y_hat = model(x)\n",
    "y_hat.size()"
   ]
  },
  {
   "cell_type": "markdown",
   "metadata": {},
   "source": [
    "### Training loops"
   ]
  },
  {
   "cell_type": "code",
   "execution_count": 65,
   "metadata": {},
   "outputs": [],
   "source": [
    "model = SentenceCNN(W, D, glove_weights=pretrained_weight)"
   ]
  },
  {
   "cell_type": "code",
   "execution_count": 66,
   "metadata": {},
   "outputs": [],
   "source": [
    "def train_epocs(model, epochs=10, lr=0.01, wd=0.0):\n",
    "    parameters = filter(lambda p: p.requires_grad, model.parameters()) # get all parameters which need grad\n",
    "    optimizer = torch.optim.Adam(parameters, lr=lr, weight_decay=wd)\n",
    "    \n",
    "    for i in range(epochs):\n",
    "        ctr = 0.\n",
    "        model.train() # into training mode\n",
    "        running_loss = 0.0        \n",
    "        for j, data in enumerate(train_loader):\n",
    "            ctr+=1\n",
    "            x,y = data\n",
    "            x = V(x).cuda()\n",
    "            y = V(y).float().cuda()\n",
    "            y_hat = model(x)\n",
    "            loss = F.binary_cross_entropy_with_logits(y_hat, y.unsqueeze(-1))\n",
    "            optimizer.zero_grad()\n",
    "            loss.backward()\n",
    "            optimizer.step()\n",
    "            running_loss += loss.data[0]\n",
    "        print(\"training loss for epoch \",i+1, \": \", running_loss/ctr) # used to be loss.data[0]\n",
    "        test_loss(model)"
   ]
  },
  {
   "cell_type": "code",
   "execution_count": 67,
   "metadata": {},
   "outputs": [],
   "source": [
    "# defining test loss which has been used in train_epochs\n",
    "\n",
    "def test_loss(model):\n",
    "    model.eval() # go to evaluation mode\n",
    "    \n",
    "    running_loss = 0\n",
    "    total = 0\n",
    "    correct = 0\n",
    "    \n",
    "    for j, data in enumerate(test_loader):\n",
    "        x,y = data\n",
    "        x,y = V(x), V(y).float()        \n",
    "        x = x.cuda() # put on gpu\n",
    "        y = y.cuda()\n",
    "        y_hat = model(x)\n",
    "        loss_now = F.binary_cross_entropy_with_logits(y_hat, y.unsqueeze(-1))\n",
    "        y_pred = y_hat > 0\n",
    "        correct_now = (y_pred.float() == y.unsqueeze(-1)).sum()\n",
    "        correct += correct_now.data[0]\n",
    "        total += len(y.float())\n",
    "        running_loss+= loss_now.data[0]\n",
    "        \n",
    "    accuracy = correct/total\n",
    "    print(\"validation loss\", \": \", running_loss/len(test_loader), 'Accuracy',  accuracy, '\\n') # j means this many iterations till end"
   ]
  },
  {
   "cell_type": "code",
   "execution_count": 68,
   "metadata": {},
   "outputs": [
    {
     "data": {
      "text/plain": [
       "0.503"
      ]
     },
     "execution_count": 68,
     "metadata": {},
     "output_type": "execute_result"
    }
   ],
   "source": [
    "sum(y_test == 1)/len(y_test)"
   ]
  },
  {
   "cell_type": "code",
   "execution_count": 69,
   "metadata": {},
   "outputs": [],
   "source": [
    "#def train(model, x_train, y_train):\n",
    "model = SentenceCNN(W, D, glove_weights=pretrained_weight).cuda()"
   ]
  },
  {
   "cell_type": "code",
   "execution_count": 70,
   "metadata": {},
   "outputs": [
    {
     "name": "stdout",
     "output_type": "stream",
     "text": [
      "validation loss :  0.6961383547963975 Accuracy 0.5026 \n",
      "\n"
     ]
    }
   ],
   "source": [
    "# initial model accuracy without training at all\n",
    "test_loss(model)"
   ]
  },
  {
   "cell_type": "markdown",
   "metadata": {},
   "source": [
    "### LR Finder"
   ]
  },
  {
   "cell_type": "code",
   "execution_count": 71,
   "metadata": {},
   "outputs": [
    {
     "data": {
      "text/plain": [
       "313"
      ]
     },
     "execution_count": 71,
     "metadata": {},
     "output_type": "execute_result"
    }
   ],
   "source": [
    "len(train_loader)"
   ]
  },
  {
   "cell_type": "code",
   "execution_count": 72,
   "metadata": {},
   "outputs": [
    {
     "data": {
      "text/plain": [
       "79"
      ]
     },
     "execution_count": 72,
     "metadata": {},
     "output_type": "execute_result"
    }
   ],
   "source": [
    "len(test_loader)"
   ]
  },
  {
   "cell_type": "code",
   "execution_count": 73,
   "metadata": {},
   "outputs": [],
   "source": [
    "def lrfinder(start, end, model, train_loader, epochs=2):\n",
    "    model.train() # into training mode\n",
    "    lrs = np.linspace(start, end, epochs*len(train_loader))    \n",
    "    parameters = filter(lambda p: p.requires_grad, model.parameters()) # get all parameters which need grad\n",
    "    optimizer = torch.optim.Adam(parameters, start)\n",
    "    losses = []\n",
    "    ctr = 0\n",
    "    for i in range(epochs): \n",
    "        for j, data in enumerate(train_loader):\n",
    "            optimizer.param_groups[0]['lr'] =lrs[ctr]\n",
    "            ctr = ctr+1            \n",
    "            x,y = data\n",
    "            x = V(x).cuda()\n",
    "            y = V(y).float().cuda()\n",
    "            y_hat = model(x)\n",
    "            loss = F.binary_cross_entropy_with_logits(y_hat, y.unsqueeze(-1))\n",
    "            optimizer.zero_grad()\n",
    "            loss.backward()\n",
    "            optimizer.step()\n",
    "            losses.append(loss.data[0])\n",
    "    plt.plot(lrs, losses)"
   ]
  },
  {
   "cell_type": "code",
   "execution_count": 74,
   "metadata": {},
   "outputs": [],
   "source": [
    "model_copy = SentenceCNN(W, D, glove_weights=pretrained_weight).cuda()"
   ]
  },
  {
   "cell_type": "code",
   "execution_count": 75,
   "metadata": {},
   "outputs": [
    {
     "data": {
      "image/png": "[encoded data removed]",
      "text/plain": [
       "<Figure size 432x288 with 1 Axes>"
      ]
     },
     "metadata": {},
     "output_type": "display_data"
    }
   ],
   "source": [
    "lrfinder(0.0001, 0.001, model_copy, train_loader, epochs=5)"
   ]
  },
  {
   "cell_type": "code",
   "execution_count": 76,
   "metadata": {},
   "outputs": [
    {
     "name": "stdout",
     "output_type": "stream",
     "text": [
      "training loss for epoch  1 :  0.6507074804351733\n",
      "validation loss :  0.5611682639846319 Accuracy 0.7802 \n",
      "\n",
      "training loss for epoch  2 :  0.5202482648360462\n",
      "validation loss :  0.4602180078059812 Accuracy 0.8006 \n",
      "\n",
      "training loss for epoch  3 :  0.4569666712238385\n",
      "validation loss :  0.4199211638939532 Accuracy 0.8172 \n",
      "\n",
      "training loss for epoch  4 :  0.4248657495069047\n",
      "validation loss :  0.4014192589476139 Accuracy 0.8226 \n",
      "\n",
      "training loss for epoch  5 :  0.39974487722872165\n",
      "validation loss :  0.3884179463869409 Accuracy 0.8244 \n",
      "\n",
      "training loss for epoch  6 :  0.3806269116961537\n",
      "validation loss :  0.37913551323021516 Accuracy 0.8314 \n",
      "\n",
      "training loss for epoch  7 :  0.3672755530086188\n",
      "validation loss :  0.36722659423381465 Accuracy 0.8376 \n",
      "\n",
      "training loss for epoch  8 :  0.35427288106455207\n",
      "validation loss :  0.36494443612762645 Accuracy 0.838 \n",
      "\n",
      "training loss for epoch  9 :  0.3429942146276894\n",
      "validation loss :  0.3583196910876262 Accuracy 0.8416 \n",
      "\n",
      "training loss for epoch  10 :  0.33345241301928086\n",
      "validation loss :  0.35139367191851895 Accuracy 0.8444 \n",
      "\n"
     ]
    }
   ],
   "source": [
    "train_epocs(model, epochs=10, lr=0.0003)"
   ]
  },
  {
   "cell_type": "markdown",
   "metadata": {},
   "source": [
    "Some more training"
   ]
  },
  {
   "cell_type": "code",
   "execution_count": 77,
   "metadata": {},
   "outputs": [
    {
     "name": "stdout",
     "output_type": "stream",
     "text": [
      "training loss for epoch  1 :  0.3217825372093402\n",
      "validation loss :  0.3509282658371744 Accuracy 0.8472 \n",
      "\n",
      "training loss for epoch  2 :  0.3136856664959996\n",
      "validation loss :  0.35660397742368 Accuracy 0.8482 \n",
      "\n",
      "training loss for epoch  3 :  0.30421863382045455\n",
      "validation loss :  0.3460835789955115 Accuracy 0.8486 \n",
      "\n",
      "training loss for epoch  4 :  0.2963184809532409\n",
      "validation loss :  0.3500470864244654 Accuracy 0.8446 \n",
      "\n",
      "training loss for epoch  5 :  0.28928900740969293\n",
      "validation loss :  0.3445833021704155 Accuracy 0.8498 \n",
      "\n"
     ]
    }
   ],
   "source": [
    "train_epocs(model, epochs=5, lr=0.0003)"
   ]
  },
  {
   "cell_type": "code",
   "execution_count": 78,
   "metadata": {},
   "outputs": [
    {
     "name": "stdout",
     "output_type": "stream",
     "text": [
      "training loss for epoch  1 :  0.28076633720542676\n",
      "validation loss :  0.3449968901238864 Accuracy 0.8508 \n",
      "\n",
      "training loss for epoch  2 :  0.2701239127891894\n",
      "validation loss :  0.34178599187090425 Accuracy 0.8506 \n",
      "\n",
      "training loss for epoch  3 :  0.2642558252754303\n",
      "validation loss :  0.34063526591922666 Accuracy 0.8506 \n",
      "\n",
      "training loss for epoch  4 :  0.26073888517892396\n",
      "validation loss :  0.33916224558142166 Accuracy 0.8514 \n",
      "\n",
      "training loss for epoch  5 :  0.24906223969528088\n",
      "validation loss :  0.34052729399143894 Accuracy 0.8508 \n",
      "\n"
     ]
    }
   ],
   "source": [
    "train_epocs(model, epochs=5, lr=0.0003)"
   ]
  },
  {
   "cell_type": "markdown",
   "metadata": {},
   "source": [
    "### Unfreezing embedding layers"
   ]
  },
  {
   "cell_type": "code",
   "execution_count": 79,
   "metadata": {},
   "outputs": [],
   "source": [
    "# unfreezing the embeddings\n",
    "model.embedding.weight.requires_grad = True"
   ]
  },
  {
   "cell_type": "code",
   "execution_count": 80,
   "metadata": {},
   "outputs": [
    {
     "name": "stdout",
     "output_type": "stream",
     "text": [
      "training loss for epoch  1 :  0.2469370202801098\n",
      "validation loss :  0.33459822607191303 Accuracy 0.8562 \n",
      "\n",
      "training loss for epoch  2 :  0.22455412968279073\n",
      "validation loss :  0.3356941104689731 Accuracy 0.8566 \n",
      "\n",
      "training loss for epoch  3 :  0.20543431673948756\n",
      "validation loss :  0.3309607817025124 Accuracy 0.8594 \n",
      "\n",
      "training loss for epoch  4 :  0.19113999847977306\n",
      "validation loss :  0.32534639669370047 Accuracy 0.8612 \n",
      "\n",
      "training loss for epoch  5 :  0.17280511829418876\n",
      "validation loss :  0.3343993966715245 Accuracy 0.8578 \n",
      "\n",
      "training loss for epoch  6 :  0.1581073027972977\n",
      "validation loss :  0.32435554416873785 Accuracy 0.8646 \n",
      "\n",
      "training loss for epoch  7 :  0.14780488498389913\n",
      "validation loss :  0.33809788294042215 Accuracy 0.857 \n",
      "\n",
      "training loss for epoch  8 :  0.136364911608517\n",
      "validation loss :  0.33202205145660835 Accuracy 0.8664 \n",
      "\n",
      "training loss for epoch  9 :  0.12407234805032087\n",
      "validation loss :  0.3400866117658494 Accuracy 0.8628 \n",
      "\n",
      "training loss for epoch  10 :  0.11535173765243814\n",
      "validation loss :  0.3377403357549559 Accuracy 0.8646 \n",
      "\n"
     ]
    }
   ],
   "source": [
    "train_epocs(model, epochs=10, lr=0.0003, wd=1e-5)"
   ]
  },
  {
   "cell_type": "markdown",
   "metadata": {},
   "source": [
    "Decreasing learning rate a little"
   ]
  },
  {
   "cell_type": "code",
   "execution_count": 81,
   "metadata": {},
   "outputs": [
    {
     "name": "stdout",
     "output_type": "stream",
     "text": [
      "training loss for epoch  1 :  0.10132902566664898\n",
      "validation loss :  0.3402680598105056 Accuracy 0.864 \n",
      "\n",
      "training loss for epoch  2 :  0.10060794990712081\n",
      "validation loss :  0.3385278201555904 Accuracy 0.8652 \n",
      "\n",
      "training loss for epoch  3 :  0.10403536740964213\n",
      "validation loss :  0.33704910606523103 Accuracy 0.8662 \n",
      "\n",
      "training loss for epoch  4 :  0.09940833791185873\n",
      "validation loss :  0.3367641541776778 Accuracy 0.8654 \n",
      "\n",
      "training loss for epoch  5 :  0.09983570232225683\n",
      "validation loss :  0.33482024186774145 Accuracy 0.8656 \n",
      "\n"
     ]
    }
   ],
   "source": [
    "train_epocs(model, epochs=5, lr=0.0001, wd=1e-4)"
   ]
  },
  {
   "cell_type": "markdown",
   "metadata": {},
   "source": [
    "### End"
   ]
  }
 ],
 "metadata": {
  "kernelspec": {
   "display_name": "Python [conda env:fastai]",
   "language": "python",
   "name": "conda-env-fastai-py"
  },
  "language_info": {
   "codemirror_mode": {
    "name": "ipython",
    "version": 3
   },
   "file_extension": ".py",
   "mimetype": "text/x-python",
   "name": "python",
   "nbconvert_exporter": "python",
   "pygments_lexer": "ipython3",
   "version": "3.6.5"
  }
 },
 "nbformat": 4,
 "nbformat_minor": 2
}
