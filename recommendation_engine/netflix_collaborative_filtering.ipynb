{
 "cells": [
  {
   "cell_type": "code",
   "execution_count": 1,
   "metadata": {},
   "outputs": [
    {
     "name": "stderr",
     "output_type": "stream",
     "text": [
      "/home/ubuntu/anaconda3/lib/python3.6/site-packages/matplotlib/__init__.py:1067: UserWarning: Duplicate key in file \"/home/ubuntu/.config/matplotlib/matplotlibrc\", line #2\n",
      "  (fname, cnt))\n",
      "/home/ubuntu/anaconda3/lib/python3.6/site-packages/matplotlib/__init__.py:1067: UserWarning: Duplicate key in file \"/home/ubuntu/.config/matplotlib/matplotlibrc\", line #3\n",
      "  (fname, cnt))\n"
     ]
    }
   ],
   "source": [
    "%matplotlib inline"
   ]
  },
  {
   "cell_type": "code",
   "execution_count": 2,
   "metadata": {},
   "outputs": [],
   "source": [
    "from pathlib import Path\n",
    "import pandas as pd\n",
    "import numpy as np\n",
    "import matplotlib.pyplot as plt"
   ]
  },
  {
   "cell_type": "code",
   "execution_count": 3,
   "metadata": {},
   "outputs": [],
   "source": [
    "import torch\n",
    "import torch.nn as nn\n",
    "import torch.nn.functional as F\n",
    "from torch.autograd import Variable"
   ]
  },
  {
   "cell_type": "markdown",
   "metadata": {},
   "source": [
    "## Data Loading and Preprocessing\n",
    "Taken from kaggle kernel: https://www.kaggle.com/laowingkin/netflix-movie-recommendation"
   ]
  },
  {
   "cell_type": "markdown",
   "metadata": {},
   "source": [
    "### Loading all data files "
   ]
  },
  {
   "cell_type": "code",
   "execution_count": 7,
   "metadata": {},
   "outputs": [
    {
     "name": "stdout",
     "output_type": "stream",
     "text": [
      "Dataset 1 shape: (24058263, 3)\n",
      "-Dataset examples-\n",
      "          cust_Id  rating        date\n",
      "0              1:     NaN         NaN\n",
      "5000000   2560324     4.0  2005-12-06\n",
      "10000000  2271935     2.0  2005-04-11\n",
      "15000000  1921803     2.0  2005-01-31\n",
      "20000000  1933327     3.0  2004-11-10\n"
     ]
    }
   ],
   "source": [
    "# Skip date\n",
    "df1 = pd.read_csv('/home/ubuntu/netflix_cf/data/combined_data_1.txt', header = None, \n",
    "                  names = ['cust_Id', 'rating','date'], usecols = [0,1,2])\n",
    "\n",
    "df1['rating'] = df1['rating'].astype(float)\n",
    "\n",
    "print('Dataset 1 shape: {}'.format(df1.shape))\n",
    "print('-Dataset examples-')\n",
    "print(df1.iloc[::5000000, :])"
   ]
  },
  {
   "cell_type": "code",
   "execution_count": 9,
   "metadata": {},
   "outputs": [
    {
     "name": "stdout",
     "output_type": "stream",
     "text": [
      "Dataset 2 shape: (26982302, 3)\n",
      "Dataset 3 shape: (22605786, 3)\n",
      "Dataset 4 shape: (26851926, 3)\n"
     ]
    }
   ],
   "source": [
    "# df2 = pd.read_csv('/home/ubuntu/netflix_cf/data/combined_data_2.txt', header = None, \n",
    "#                   names = ['cust_Id', 'rating', 'date'], usecols = [0,1,2])\n",
    "# df3 = pd.read_csv('/home/ubuntu/netflix_cf/data/combined_data_3.txt', header = None, \n",
    "#                   names = ['cust_Id', 'rating','date'], usecols = [0,1,2])\n",
    "# df4 = pd.read_csv('/home/ubuntu/netflix_cf/data/combined_data_4.txt', header = None,\n",
    "#                   names = ['cust_Id', 'rating','date'], usecols = [0,1,2])\n",
    "\n",
    "\n",
    "# df2['rating'] = df2['rating'].astype(float)\n",
    "# df3['rating'] = df3['rating'].astype(float)\n",
    "# df4['rating'] = df4['rating'].astype(float)\n",
    "\n",
    "# print('Dataset 2 shape: {}'.format(df2.shape))\n",
    "# print('Dataset 3 shape: {}'.format(df3.shape))\n",
    "# print('Dataset 4 shape: {}'.format(df4.shape))"
   ]
  },
  {
   "cell_type": "code",
   "execution_count": 14,
   "metadata": {},
   "outputs": [
    {
     "name": "stdout",
     "output_type": "stream",
     "text": [
      "Full dataset shape: (24058263, 3)\n",
      "-Dataset examples-\n",
      "          cust_Id  rating        date\n",
      "0              1:     NaN         NaN\n",
      "5000000   2560324     4.0  2005-12-06\n",
      "10000000  2271935     2.0  2005-04-11\n",
      "15000000  1921803     2.0  2005-01-31\n",
      "20000000  1933327     3.0  2004-11-10\n"
     ]
    }
   ],
   "source": [
    "# load less data for speed\n",
    "\n",
    "df = df1\n",
    "# df = df1.append(df2)\n",
    "# df = df.append(df3)\n",
    "# df = df.append(df4)\n",
    "\n",
    "df.index = np.arange(0,len(df))\n",
    "print('Full dataset shape: {}'.format(df.shape))\n",
    "print('-Dataset examples-')\n",
    "print(df.iloc[::5000000, :])"
   ]
  },
  {
   "cell_type": "markdown",
   "metadata": {},
   "source": [
    "### Adding Movie Id column to this"
   ]
  },
  {
   "cell_type": "code",
   "execution_count": 16,
   "metadata": {},
   "outputs": [],
   "source": [
    "df_nan = pd.DataFrame(pd.isnull(df.rating))\n",
    "df_nan = df_nan[df_nan['rating'] == True]\n",
    "df_nan = df_nan.reset_index()"
   ]
  },
  {
   "cell_type": "code",
   "execution_count": 17,
   "metadata": {},
   "outputs": [
    {
     "data": {
      "text/plain": [
       "(4499, 2)"
      ]
     },
     "execution_count": 17,
     "metadata": {},
     "output_type": "execute_result"
    }
   ],
   "source": [
    "df_nan.shape"
   ]
  },
  {
   "cell_type": "code",
   "execution_count": null,
   "metadata": {},
   "outputs": [],
   "source": [
    "df_nan[::1000,:]"
   ]
  },
  {
   "cell_type": "code",
   "execution_count": 22,
   "metadata": {},
   "outputs": [
    {
     "name": "stdout",
     "output_type": "stream",
     "text": [
      "Movie numpy: [1.000e+00 1.000e+00 1.000e+00 ... 4.499e+03 4.499e+03 4.499e+03]\n",
      "Length: 24053764\n"
     ]
    }
   ],
   "source": [
    "movie_np = []\n",
    "movie_id = 1\n",
    "\n",
    "for i,j in zip(df_nan['index'][1:],df_nan['index'][:-1]):\n",
    "    # numpy approach\n",
    "    temp = np.full((1,i-j-1), movie_id)\n",
    "    movie_np = np.append(movie_np, temp)\n",
    "    movie_id += 1\n",
    "\n",
    "# Account for last record and corresponding length\n",
    "# numpy approach\n",
    "last_record = np.full((1,len(df) - df_nan.iloc[-1, 0] - 1),movie_id)\n",
    "movie_np = np.append(movie_np, last_record)\n",
    "\n",
    "print('Movie numpy: {}'.format(movie_np))\n",
    "print('Length: {}'.format(len(movie_np)))"
   ]
  },
  {
   "cell_type": "code",
   "execution_count": 32,
   "metadata": {},
   "outputs": [
    {
     "data": {
      "text/plain": [
       "(24053764, 4)"
      ]
     },
     "execution_count": 32,
     "metadata": {},
     "output_type": "execute_result"
    }
   ],
   "source": [
    "df.shape"
   ]
  },
  {
   "cell_type": "markdown",
   "metadata": {},
   "source": [
    "#### Adding movie id to original dataframe"
   ]
  },
  {
   "cell_type": "code",
   "execution_count": 23,
   "metadata": {},
   "outputs": [
    {
     "name": "stderr",
     "output_type": "stream",
     "text": [
      "/home/ubuntu/anaconda3/lib/python3.6/site-packages/ipykernel_launcher.py:4: SettingWithCopyWarning: \n",
      "A value is trying to be set on a copy of a slice from a DataFrame.\n",
      "Try using .loc[row_indexer,col_indexer] = value instead\n",
      "\n",
      "See the caveats in the documentation: http://pandas.pydata.org/pandas-docs/stable/indexing.html#indexing-view-versus-copy\n",
      "  after removing the cwd from sys.path.\n"
     ]
    },
    {
     "name": "stdout",
     "output_type": "stream",
     "text": [
      "-Dataset examples-\n",
      "          cust_Id  rating        date  movie_Id\n",
      "1         1488844     3.0  2005-09-06         1\n",
      "5000996    501954     2.0  2004-08-26       996\n",
      "10001962   404654     5.0  2005-08-29      1962\n",
      "15002876   886608     2.0  2005-09-19      2876\n",
      "20003825  1193835     2.0  2003-08-13      3825\n"
     ]
    },
    {
     "name": "stderr",
     "output_type": "stream",
     "text": [
      "/home/ubuntu/anaconda3/lib/python3.6/site-packages/ipykernel_launcher.py:5: SettingWithCopyWarning: \n",
      "A value is trying to be set on a copy of a slice from a DataFrame.\n",
      "Try using .loc[row_indexer,col_indexer] = value instead\n",
      "\n",
      "See the caveats in the documentation: http://pandas.pydata.org/pandas-docs/stable/indexing.html#indexing-view-versus-copy\n",
      "  \"\"\"\n"
     ]
    }
   ],
   "source": [
    "# remove those Movie ID rows\n",
    "df = df[pd.notnull(df['rating'])]\n",
    "\n",
    "df['movie_Id'] = movie_np.astype(int)\n",
    "df['cust_Id'] = df['cust_Id'].astype(int)\n",
    "print('-Dataset examples-')\n",
    "print(df.iloc[::5000000, :])"
   ]
  },
  {
   "cell_type": "code",
   "execution_count": 11,
   "metadata": {},
   "outputs": [],
   "source": [
    "df['date'] = pd.to_datetime(df['date'])"
   ]
  },
  {
   "cell_type": "code",
   "execution_count": 14,
   "metadata": {},
   "outputs": [],
   "source": [
    "# saving this dataframe\n",
    "\n",
    "df.to_pickle('/home/ubuntu/netflix_cf/data/intermediate_df.pkl')"
   ]
  },
  {
   "cell_type": "code",
   "execution_count": 4,
   "metadata": {},
   "outputs": [],
   "source": [
    "df = pd.read_pickle('/home/ubuntu/netflix_cf/data/intermediate_df.pkl')"
   ]
  },
  {
   "cell_type": "markdown",
   "metadata": {},
   "source": [
    "### Adding date time related columns"
   ]
  },
  {
   "cell_type": "code",
   "execution_count": 5,
   "metadata": {},
   "outputs": [],
   "source": [
    "df['year']= df.date.dt.year\n",
    "df['dow']= df.date.dt.dayofweek\n",
    "df['month']= df.date.dt.month"
   ]
  },
  {
   "cell_type": "code",
   "execution_count": 6,
   "metadata": {},
   "outputs": [],
   "source": [
    "df.sort_values(by='date',ascending=True, inplace=True)"
   ]
  },
  {
   "cell_type": "code",
   "execution_count": 7,
   "metadata": {},
   "outputs": [],
   "source": [
    "df.reset_index(inplace=True, drop=True)"
   ]
  },
  {
   "cell_type": "code",
   "execution_count": 8,
   "metadata": {},
   "outputs": [
    {
     "data": {
      "text/html": [
       "<div>\n",
       "<style scoped>\n",
       "    .dataframe tbody tr th:only-of-type {\n",
       "        vertical-align: middle;\n",
       "    }\n",
       "\n",
       "    .dataframe tbody tr th {\n",
       "        vertical-align: top;\n",
       "    }\n",
       "\n",
       "    .dataframe thead th {\n",
       "        text-align: right;\n",
       "    }\n",
       "</style>\n",
       "<table border=\"1\" class=\"dataframe\">\n",
       "  <thead>\n",
       "    <tr style=\"text-align: right;\">\n",
       "      <th></th>\n",
       "      <th>cust_Id</th>\n",
       "      <th>rating</th>\n",
       "      <th>date</th>\n",
       "      <th>movie_Id</th>\n",
       "      <th>year</th>\n",
       "      <th>dow</th>\n",
       "      <th>month</th>\n",
       "    </tr>\n",
       "  </thead>\n",
       "  <tbody>\n",
       "    <tr>\n",
       "      <th>0</th>\n",
       "      <td>510180</td>\n",
       "      <td>5.0</td>\n",
       "      <td>1999-11-11</td>\n",
       "      <td>1798</td>\n",
       "      <td>1999</td>\n",
       "      <td>3</td>\n",
       "      <td>11</td>\n",
       "    </tr>\n",
       "    <tr>\n",
       "      <th>1</th>\n",
       "      <td>510180</td>\n",
       "      <td>3.0</td>\n",
       "      <td>1999-11-11</td>\n",
       "      <td>2866</td>\n",
       "      <td>1999</td>\n",
       "      <td>3</td>\n",
       "      <td>11</td>\n",
       "    </tr>\n",
       "  </tbody>\n",
       "</table>\n",
       "</div>"
      ],
      "text/plain": [
       "   cust_Id  rating       date  movie_Id  year  dow  month\n",
       "0   510180     5.0 1999-11-11      1798  1999    3     11\n",
       "1   510180     3.0 1999-11-11      2866  1999    3     11"
      ]
     },
     "execution_count": 8,
     "metadata": {},
     "output_type": "execute_result"
    }
   ],
   "source": [
    "df[:2]"
   ]
  },
  {
   "cell_type": "markdown",
   "metadata": {},
   "source": [
    "### Encoding data\n",
    "We enconde the data to have contiguous ids for users and movies."
   ]
  },
  {
   "cell_type": "code",
   "execution_count": 57,
   "metadata": {},
   "outputs": [],
   "source": [
    "# here is a handy function modified from fast.ai\n",
    "def proc_col(col, train_col=None):\n",
    "    \"\"\"Encodes a pandas column with continous ids. \n",
    "    \"\"\"\n",
    "    if train_col is not None:\n",
    "        uniq = train_col.unique()\n",
    "    else:\n",
    "        uniq = col.unique()\n",
    "    name2idx = {o:i for i,o in enumerate(uniq)}\n",
    "    return name2idx, np.array([name2idx.get(x, -1) for x in col]), len(uniq)"
   ]
  },
  {
   "cell_type": "code",
   "execution_count": 58,
   "metadata": {},
   "outputs": [],
   "source": [
    "def encode_data(df, train=None):\n",
    "    \"\"\" Encodes rating data with continous user and movie ids. \n",
    "    If train is provided, encodes df with the same encoding as train.\n",
    "    \"\"\"\n",
    "    df = df.copy()\n",
    "    for col_name in [\"cust_Id\", \"movie_Id\", \"year\", 'dow', 'month']:\n",
    "        train_col = None\n",
    "        if train is not None:\n",
    "            train_col = train[col_name]\n",
    "        _,col,_ = proc_col(df[col_name], train_col)\n",
    "        df[col_name] = col\n",
    "        df = df[df[col_name] >= 0]\n",
    "    return df"
   ]
  },
  {
   "cell_type": "code",
   "execution_count": 59,
   "metadata": {},
   "outputs": [],
   "source": [
    "df_e = encode_data(df)"
   ]
  },
  {
   "cell_type": "code",
   "execution_count": 60,
   "metadata": {},
   "outputs": [
    {
     "data": {
      "text/html": [
       "<div>\n",
       "<style scoped>\n",
       "    .dataframe tbody tr th:only-of-type {\n",
       "        vertical-align: middle;\n",
       "    }\n",
       "\n",
       "    .dataframe tbody tr th {\n",
       "        vertical-align: top;\n",
       "    }\n",
       "\n",
       "    .dataframe thead th {\n",
       "        text-align: right;\n",
       "    }\n",
       "</style>\n",
       "<table border=\"1\" class=\"dataframe\">\n",
       "  <thead>\n",
       "    <tr style=\"text-align: right;\">\n",
       "      <th></th>\n",
       "      <th>cust_Id</th>\n",
       "      <th>rating</th>\n",
       "      <th>date</th>\n",
       "      <th>movie_Id</th>\n",
       "      <th>year</th>\n",
       "      <th>dow</th>\n",
       "      <th>month</th>\n",
       "    </tr>\n",
       "  </thead>\n",
       "  <tbody>\n",
       "    <tr>\n",
       "      <th>0</th>\n",
       "      <td>0</td>\n",
       "      <td>5.0</td>\n",
       "      <td>1999-11-11</td>\n",
       "      <td>0</td>\n",
       "      <td>0</td>\n",
       "      <td>0</td>\n",
       "      <td>0</td>\n",
       "    </tr>\n",
       "    <tr>\n",
       "      <th>1</th>\n",
       "      <td>0</td>\n",
       "      <td>3.0</td>\n",
       "      <td>1999-11-11</td>\n",
       "      <td>1</td>\n",
       "      <td>0</td>\n",
       "      <td>0</td>\n",
       "      <td>0</td>\n",
       "    </tr>\n",
       "    <tr>\n",
       "      <th>2</th>\n",
       "      <td>0</td>\n",
       "      <td>4.0</td>\n",
       "      <td>1999-11-11</td>\n",
       "      <td>2</td>\n",
       "      <td>0</td>\n",
       "      <td>0</td>\n",
       "      <td>0</td>\n",
       "    </tr>\n",
       "  </tbody>\n",
       "</table>\n",
       "</div>"
      ],
      "text/plain": [
       "   cust_Id  rating       date  movie_Id  year  dow  month\n",
       "0        0     5.0 1999-11-11         0     0    0      0\n",
       "1        0     3.0 1999-11-11         1     0    0      0\n",
       "2        0     4.0 1999-11-11         2     0    0      0"
      ]
     },
     "execution_count": 60,
     "metadata": {},
     "output_type": "execute_result"
    }
   ],
   "source": [
    "df_e[:3]"
   ]
  },
  {
   "cell_type": "code",
   "execution_count": 61,
   "metadata": {},
   "outputs": [
    {
     "data": {
      "text/plain": [
       "((24053764, 7), (24053764, 7))"
      ]
     },
     "execution_count": 61,
     "metadata": {},
     "output_type": "execute_result"
    }
   ],
   "source": [
    "df.shape, df_e.shape"
   ]
  },
  {
   "cell_type": "code",
   "execution_count": 62,
   "metadata": {},
   "outputs": [],
   "source": [
    "del df"
   ]
  },
  {
   "cell_type": "markdown",
   "metadata": {},
   "source": [
    "### Train Val Split"
   ]
  },
  {
   "cell_type": "markdown",
   "metadata": {},
   "source": [
    "Sorting by date to split 20% validation"
   ]
  },
  {
   "cell_type": "code",
   "execution_count": 63,
   "metadata": {},
   "outputs": [],
   "source": [
    "# split train and validation before encoding\n",
    "trn_len = df_e.shape[0]- int(0.2*df_e.shape[0])\n",
    "val_len = int(0.2*df_e.shape[0])\n",
    "\n",
    "train = df_e[:trn_len].copy()\n",
    "val = df_e[trn_len:].copy()"
   ]
  },
  {
   "cell_type": "code",
   "execution_count": 64,
   "metadata": {},
   "outputs": [
    {
     "data": {
      "text/plain": [
       "True"
      ]
     },
     "execution_count": 64,
     "metadata": {},
     "output_type": "execute_result"
    }
   ],
   "source": [
    "train.shape[0]+ val.shape[0] == df_e.shape[0]"
   ]
  },
  {
   "cell_type": "code",
   "execution_count": 65,
   "metadata": {},
   "outputs": [],
   "source": [
    "# saving pickles\n",
    "\n",
    "train.to_pickle('/home/ubuntu/netflix_cf/data/df_train.pkl')\n",
    "val.to_pickle('/home/ubuntu/netflix_cf/data/df_val.pkl')"
   ]
  },
  {
   "cell_type": "code",
   "execution_count": 9,
   "metadata": {},
   "outputs": [],
   "source": [
    "df_train = pd.read_pickle('/home/ubuntu/netflix_cf/data/df_train.pkl')\n",
    "df_val = pd.read_pickle('/home/ubuntu/netflix_cf/data/df_val.pkl')"
   ]
  },
  {
   "cell_type": "code",
   "execution_count": 67,
   "metadata": {},
   "outputs": [
    {
     "data": {
      "text/html": [
       "<div>\n",
       "<style scoped>\n",
       "    .dataframe tbody tr th:only-of-type {\n",
       "        vertical-align: middle;\n",
       "    }\n",
       "\n",
       "    .dataframe tbody tr th {\n",
       "        vertical-align: top;\n",
       "    }\n",
       "\n",
       "    .dataframe thead th {\n",
       "        text-align: right;\n",
       "    }\n",
       "</style>\n",
       "<table border=\"1\" class=\"dataframe\">\n",
       "  <thead>\n",
       "    <tr style=\"text-align: right;\">\n",
       "      <th></th>\n",
       "      <th>cust_Id</th>\n",
       "      <th>rating</th>\n",
       "      <th>date</th>\n",
       "      <th>movie_Id</th>\n",
       "      <th>year</th>\n",
       "      <th>dow</th>\n",
       "      <th>month</th>\n",
       "    </tr>\n",
       "  </thead>\n",
       "  <tbody>\n",
       "    <tr>\n",
       "      <th>0</th>\n",
       "      <td>0</td>\n",
       "      <td>5.0</td>\n",
       "      <td>1999-11-11</td>\n",
       "      <td>0</td>\n",
       "      <td>0</td>\n",
       "      <td>0</td>\n",
       "      <td>0</td>\n",
       "    </tr>\n",
       "    <tr>\n",
       "      <th>1</th>\n",
       "      <td>0</td>\n",
       "      <td>3.0</td>\n",
       "      <td>1999-11-11</td>\n",
       "      <td>1</td>\n",
       "      <td>0</td>\n",
       "      <td>0</td>\n",
       "      <td>0</td>\n",
       "    </tr>\n",
       "    <tr>\n",
       "      <th>2</th>\n",
       "      <td>0</td>\n",
       "      <td>4.0</td>\n",
       "      <td>1999-11-11</td>\n",
       "      <td>2</td>\n",
       "      <td>0</td>\n",
       "      <td>0</td>\n",
       "      <td>0</td>\n",
       "    </tr>\n",
       "  </tbody>\n",
       "</table>\n",
       "</div>"
      ],
      "text/plain": [
       "   cust_Id  rating       date  movie_Id  year  dow  month\n",
       "0        0     5.0 1999-11-11         0     0    0      0\n",
       "1        0     3.0 1999-11-11         1     0    0      0\n",
       "2        0     4.0 1999-11-11         2     0    0      0"
      ]
     },
     "execution_count": 67,
     "metadata": {},
     "output_type": "execute_result"
    }
   ],
   "source": [
    "df_train[:3]"
   ]
  },
  {
   "cell_type": "markdown",
   "metadata": {},
   "source": [
    "### Baseline Model: Matrix Factorization"
   ]
  },
  {
   "cell_type": "markdown",
   "metadata": {},
   "source": [
    "It's always good to first try these neural net layers on a small sample dataset to see how it looks like before running on the whole dataset"
   ]
  },
  {
   "cell_type": "code",
   "execution_count": 6,
   "metadata": {},
   "outputs": [],
   "source": [
    "df_mini = df_train.copy()[:10]"
   ]
  },
  {
   "cell_type": "code",
   "execution_count": 7,
   "metadata": {},
   "outputs": [
    {
     "data": {
      "text/html": [
       "<div>\n",
       "<style scoped>\n",
       "    .dataframe tbody tr th:only-of-type {\n",
       "        vertical-align: middle;\n",
       "    }\n",
       "\n",
       "    .dataframe tbody tr th {\n",
       "        vertical-align: top;\n",
       "    }\n",
       "\n",
       "    .dataframe thead th {\n",
       "        text-align: right;\n",
       "    }\n",
       "</style>\n",
       "<table border=\"1\" class=\"dataframe\">\n",
       "  <thead>\n",
       "    <tr style=\"text-align: right;\">\n",
       "      <th></th>\n",
       "      <th>cust_Id</th>\n",
       "      <th>rating</th>\n",
       "      <th>date</th>\n",
       "      <th>movie_Id</th>\n",
       "    </tr>\n",
       "  </thead>\n",
       "  <tbody>\n",
       "    <tr>\n",
       "      <th>0</th>\n",
       "      <td>0</td>\n",
       "      <td>5.0</td>\n",
       "      <td>1999-11-11</td>\n",
       "      <td>0</td>\n",
       "    </tr>\n",
       "    <tr>\n",
       "      <th>1</th>\n",
       "      <td>0</td>\n",
       "      <td>3.0</td>\n",
       "      <td>1999-11-11</td>\n",
       "      <td>1</td>\n",
       "    </tr>\n",
       "    <tr>\n",
       "      <th>2</th>\n",
       "      <td>0</td>\n",
       "      <td>4.0</td>\n",
       "      <td>1999-11-11</td>\n",
       "      <td>2</td>\n",
       "    </tr>\n",
       "    <tr>\n",
       "      <th>3</th>\n",
       "      <td>0</td>\n",
       "      <td>2.0</td>\n",
       "      <td>1999-11-11</td>\n",
       "      <td>3</td>\n",
       "    </tr>\n",
       "    <tr>\n",
       "      <th>4</th>\n",
       "      <td>0</td>\n",
       "      <td>5.0</td>\n",
       "      <td>1999-11-11</td>\n",
       "      <td>4</td>\n",
       "    </tr>\n",
       "    <tr>\n",
       "      <th>5</th>\n",
       "      <td>0</td>\n",
       "      <td>3.0</td>\n",
       "      <td>1999-12-06</td>\n",
       "      <td>5</td>\n",
       "    </tr>\n",
       "    <tr>\n",
       "      <th>6</th>\n",
       "      <td>0</td>\n",
       "      <td>3.0</td>\n",
       "      <td>1999-12-06</td>\n",
       "      <td>6</td>\n",
       "    </tr>\n",
       "    <tr>\n",
       "      <th>7</th>\n",
       "      <td>0</td>\n",
       "      <td>3.0</td>\n",
       "      <td>1999-12-06</td>\n",
       "      <td>7</td>\n",
       "    </tr>\n",
       "    <tr>\n",
       "      <th>8</th>\n",
       "      <td>1</td>\n",
       "      <td>3.0</td>\n",
       "      <td>1999-12-08</td>\n",
       "      <td>8</td>\n",
       "    </tr>\n",
       "    <tr>\n",
       "      <th>9</th>\n",
       "      <td>1</td>\n",
       "      <td>3.0</td>\n",
       "      <td>1999-12-08</td>\n",
       "      <td>9</td>\n",
       "    </tr>\n",
       "  </tbody>\n",
       "</table>\n",
       "</div>"
      ],
      "text/plain": [
       "   cust_Id  rating       date  movie_Id\n",
       "0        0     5.0 1999-11-11         0\n",
       "1        0     3.0 1999-11-11         1\n",
       "2        0     4.0 1999-11-11         2\n",
       "3        0     2.0 1999-11-11         3\n",
       "4        0     5.0 1999-11-11         4\n",
       "5        0     3.0 1999-12-06         5\n",
       "6        0     3.0 1999-12-06         6\n",
       "7        0     3.0 1999-12-06         7\n",
       "8        1     3.0 1999-12-08         8\n",
       "9        1     3.0 1999-12-08         9"
      ]
     },
     "execution_count": 7,
     "metadata": {},
     "output_type": "execute_result"
    }
   ],
   "source": [
    "df_mini"
   ]
  },
  {
   "cell_type": "code",
   "execution_count": 7,
   "metadata": {},
   "outputs": [],
   "source": [
    "num_users, num_items, emb_size = 2, 10, 10\n",
    "\n",
    "\n",
    "user_emb = nn.Embedding(num_users, emb_size)\n",
    "item_emb = nn.Embedding(num_items, emb_size)"
   ]
  },
  {
   "cell_type": "code",
   "execution_count": 8,
   "metadata": {},
   "outputs": [
    {
     "data": {
      "text/plain": [
       "Embedding(2, 10)"
      ]
     },
     "execution_count": 8,
     "metadata": {},
     "output_type": "execute_result"
    }
   ],
   "source": [
    "user_emb"
   ]
  },
  {
   "cell_type": "code",
   "execution_count": 19,
   "metadata": {},
   "outputs": [],
   "source": [
    "users = Variable(torch.LongTensor(df_mini.cust_Id.values))\n",
    "items = Variable(torch.LongTensor(df_mini.movie_Id.values))"
   ]
  },
  {
   "cell_type": "code",
   "execution_count": 20,
   "metadata": {},
   "outputs": [
    {
     "data": {
      "text/plain": [
       "Variable containing:\n",
       " 0\n",
       " 1\n",
       " 2\n",
       " 3\n",
       " 4\n",
       " 5\n",
       " 6\n",
       " 7\n",
       " 8\n",
       " 9\n",
       "[torch.LongTensor of size 10]"
      ]
     },
     "execution_count": 20,
     "metadata": {},
     "output_type": "execute_result"
    }
   ],
   "source": [
    "items"
   ]
  },
  {
   "cell_type": "code",
   "execution_count": 23,
   "metadata": {},
   "outputs": [],
   "source": [
    "# index in embedding layer\n",
    "U = user_emb(users)\n",
    "V = item_emb(items)"
   ]
  },
  {
   "cell_type": "code",
   "execution_count": 28,
   "metadata": {},
   "outputs": [
    {
     "data": {
      "text/plain": [
       "(torch.Size([10, 10]), torch.Size([10, 10]))"
      ]
     },
     "execution_count": 28,
     "metadata": {},
     "output_type": "execute_result"
    }
   ],
   "source": [
    "U.shape, V.shape"
   ]
  },
  {
   "cell_type": "code",
   "execution_count": 31,
   "metadata": {},
   "outputs": [
    {
     "data": {
      "text/plain": [
       "Variable containing:\n",
       "-1.0729\n",
       "-1.0216\n",
       " 1.7603\n",
       "-3.0100\n",
       " 0.7900\n",
       "-0.7482\n",
       " 1.4096\n",
       " 2.6721\n",
       " 0.4361\n",
       "-2.0313\n",
       "[torch.FloatTensor of size 10]"
      ]
     },
     "execution_count": 31,
     "metadata": {},
     "output_type": "execute_result"
    }
   ],
   "source": [
    "(U*V).sum(1)"
   ]
  },
  {
   "cell_type": "markdown",
   "metadata": {},
   "source": [
    "#### Dataset class and dataloader"
   ]
  },
  {
   "cell_type": "code",
   "execution_count": 33,
   "metadata": {},
   "outputs": [],
   "source": [
    "import torch\n",
    "from torch.utils import data\n",
    "\n",
    "class Dataset(data.Dataset):\n",
    "    \n",
    "    'Characterizes a dataset for PyTorch'\n",
    "    def __init__(self, movies, users, ratings):\n",
    "        'Initialization'\n",
    "        self.movies = movies\n",
    "        self.users = users\n",
    "        self.ratings = ratings\n",
    "    \n",
    "    def __len__(self):\n",
    "        'Denotes the total number of samples'\n",
    "        return len(self.ratings)\n",
    "    \n",
    "    def __getitem__(self, index):\n",
    "        'Generates one sample of data'\n",
    "        # Select sample\n",
    "        U = self.movies[index]\n",
    "        V = self.users[index]\n",
    "        y = self.ratings[index]\n",
    "\n",
    "        return [U, V, y]"
   ]
  },
  {
   "cell_type": "code",
   "execution_count": 64,
   "metadata": {},
   "outputs": [],
   "source": [
    "users = torch.LongTensor(df_train.cust_Id.values)\n",
    "movies = torch.LongTensor(df_train.movie_Id.values)\n",
    "ratings = torch.FloatTensor(df_train.rating.values)\n",
    "\n",
    "train_dataset = Dataset(users, movies, ratings)\n",
    "\n",
    "train_loader = torch.utils.data.DataLoader(train_dataset, batch_size=100000, shuffle=True)"
   ]
  },
  {
   "cell_type": "code",
   "execution_count": 65,
   "metadata": {},
   "outputs": [
    {
     "data": {
      "text/plain": [
       "[\n",
       "  0\n",
       "  0\n",
       " [torch.LongTensor of size 2], \n",
       "  0\n",
       "  1\n",
       " [torch.LongTensor of size 2], \n",
       "  5\n",
       "  3\n",
       " [torch.FloatTensor of size 2]]"
      ]
     },
     "execution_count": 65,
     "metadata": {},
     "output_type": "execute_result"
    }
   ],
   "source": [
    "train_dataset[:2]"
   ]
  },
  {
   "cell_type": "code",
   "execution_count": 66,
   "metadata": {},
   "outputs": [],
   "source": [
    "tl = iter(train_loader)"
   ]
  },
  {
   "cell_type": "code",
   "execution_count": 67,
   "metadata": {},
   "outputs": [
    {
     "data": {
      "text/plain": [
       "[\n",
       "  1.1441e+05\n",
       "  1.7940e+05\n",
       "  2.4209e+05\n",
       "      ⋮     \n",
       "  1.1411e+05\n",
       "  1.9630e+05\n",
       "  1.6677e+05\n",
       " [torch.LongTensor of size 100000], \n",
       "  1146\n",
       "  1426\n",
       "  2645\n",
       "   ⋮  \n",
       "  1610\n",
       "    27\n",
       "  1570\n",
       " [torch.LongTensor of size 100000], \n",
       "  3\n",
       "  3\n",
       "  3\n",
       " ⋮ \n",
       "  5\n",
       "  3\n",
       "  3\n",
       " [torch.DoubleTensor of size 100000]]"
      ]
     },
     "execution_count": 67,
     "metadata": {},
     "output_type": "execute_result"
    }
   ],
   "source": [
    "next(tl)"
   ]
  },
  {
   "cell_type": "code",
   "execution_count": 135,
   "metadata": {},
   "outputs": [],
   "source": [
    "# validation dataloader\n",
    "\n",
    "users_val = torch.LongTensor(df_val.cust_Id.values)\n",
    "movies_val = torch.LongTensor(df_val.movie_Id.values)\n",
    "ratings_val = torch.FloatTensor(df_val.rating.values)\n",
    "\n",
    "val_dataset = Dataset(users_val, movies_val, ratings_val)\n",
    "\n",
    "val_loader = torch.utils.data.DataLoader(val_dataset, batch_size=100000, shuffle=True)"
   ]
  },
  {
   "cell_type": "code",
   "execution_count": 136,
   "metadata": {},
   "outputs": [
    {
     "data": {
      "text/plain": [
       "<__main__.Dataset at 0x7f1125899f98>"
      ]
     },
     "execution_count": 136,
     "metadata": {},
     "output_type": "execute_result"
    }
   ],
   "source": [
    "val_dataset"
   ]
  },
  {
   "cell_type": "markdown",
   "metadata": {},
   "source": [
    "#### Training MF model with bias"
   ]
  },
  {
   "cell_type": "code",
   "execution_count": 82,
   "metadata": {},
   "outputs": [],
   "source": [
    "class MF_bias(nn.Module):\n",
    "    def __init__(self, num_users, num_items, emb_size=100):\n",
    "        super(MF_bias, self).__init__()\n",
    "        self.user_emb = nn.Embedding(num_users, emb_size)\n",
    "        self.user_bias = nn.Embedding(num_users, 1)\n",
    "        self.item_emb = nn.Embedding(num_items, emb_size)\n",
    "        self.item_bias = nn.Embedding(num_items, 1)\n",
    "        # init \n",
    "        self.user_emb.weight.data.uniform_(0,0.05)\n",
    "        self.item_emb.weight.data.uniform_(0,0.05)\n",
    "        self.user_bias.weight.data.uniform_(-0.01,0.01)\n",
    "        self.item_bias.weight.data.uniform_(-0.01,0.01)\n",
    "        \n",
    "    def forward(self, u, v):\n",
    "        U = self.user_emb(u)\n",
    "        V = self.item_emb(v)\n",
    "        b_u = self.user_bias(u).squeeze()\n",
    "        b_v = self.item_bias(v).squeeze()\n",
    "        return (U*V).sum(1) +  b_u  + b_v"
   ]
  },
  {
   "cell_type": "code",
   "execution_count": 70,
   "metadata": {},
   "outputs": [
    {
     "data": {
      "text/plain": [
       "200.0"
      ]
     },
     "execution_count": 70,
     "metadata": {},
     "output_type": "execute_result"
    }
   ],
   "source": [
    "# iteration per epoch\n",
    "20000000/100000"
   ]
  },
  {
   "cell_type": "code",
   "execution_count": 109,
   "metadata": {},
   "outputs": [],
   "source": [
    "for i, data in enumerate(train_loader):\n",
    "    U,V,y = data\n",
    "    break\n",
    "    "
   ]
  },
  {
   "cell_type": "code",
   "execution_count": 110,
   "metadata": {},
   "outputs": [
    {
     "data": {
      "text/plain": [
       "(\n",
       "  4.1952e+04\n",
       "  1.2634e+05\n",
       "  1.0288e+05\n",
       "      ⋮     \n",
       "  2.5643e+04\n",
       "  1.3268e+05\n",
       "  2.6544e+05\n",
       " [torch.LongTensor of size 100000], \n",
       "   703\n",
       "  2535\n",
       "  2884\n",
       "   ⋮  \n",
       "  3016\n",
       "   744\n",
       "  3144\n",
       " [torch.LongTensor of size 100000], \n",
       "  2\n",
       "  4\n",
       "  2\n",
       " ⋮ \n",
       "  4\n",
       "  4\n",
       "  5\n",
       " [torch.DoubleTensor of size 100000])"
      ]
     },
     "execution_count": 110,
     "metadata": {},
     "output_type": "execute_result"
    }
   ],
   "source": [
    "U,V,y"
   ]
  },
  {
   "cell_type": "code",
   "execution_count": 16,
   "metadata": {},
   "outputs": [
    {
     "name": "stdout",
     "output_type": "stream",
     "text": [
      "389223 4403\n"
     ]
    }
   ],
   "source": [
    "# instantiating model class\n",
    "num_users = len(df_train.cust_Id.unique())\n",
    "num_items = len(df_train.movie_Id.unique())\n",
    "print(num_users, num_items)"
   ]
  },
  {
   "cell_type": "code",
   "execution_count": null,
   "metadata": {},
   "outputs": [],
   "source": [
    "model = MF_bias(num_users, num_items, emb_size=100).cuda()  # if you have a GPU .cuda()"
   ]
  },
  {
   "cell_type": "code",
   "execution_count": 85,
   "metadata": {},
   "outputs": [
    {
     "data": {
      "text/plain": [
       "[Parameter containing:\n",
       " 1.00000e-02 *\n",
       "  1.3964  0.2576  0.8163  ...   0.9777  1.1301  4.6421\n",
       "  2.2505  1.5438  4.5505  ...   1.1837  1.6772  4.9862\n",
       "  2.5746  1.3042  0.8057  ...   2.3677  3.7980  2.8203\n",
       "           ...             ⋱             ...          \n",
       "  2.5007  3.4935  0.8847  ...   4.0331  3.1606  4.1015\n",
       "  4.0530  1.7925  2.6780  ...   4.3488  3.7237  0.2395\n",
       "  1.9705  0.3177  1.9255  ...   0.4876  4.2783  4.8671\n",
       " [torch.FloatTensor of size 389223x100], Parameter containing:\n",
       "  6.3819e-03\n",
       "  6.9740e-03\n",
       " -7.4664e-03\n",
       "      ⋮      \n",
       "  1.6735e-03\n",
       " -7.1889e-03\n",
       " -2.5451e-03\n",
       " [torch.FloatTensor of size 389223x1], Parameter containing:\n",
       "  1.7135e-02  8.7493e-03  1.0590e-02  ...   3.1343e-03  2.2114e-02  2.2622e-02\n",
       "  3.2340e-02  3.3855e-02  4.0062e-03  ...   2.4309e-02  8.8655e-03  4.0964e-02\n",
       "  1.5294e-02  2.6389e-02  4.6789e-02  ...   6.6698e-03  3.5113e-02  5.1873e-03\n",
       "                 ...                   ⋱                   ...                \n",
       "  1.3312e-02  4.7135e-02  9.1409e-03  ...   9.6253e-03  6.6988e-03  3.7533e-02\n",
       "  4.9065e-02  3.0494e-02  9.9508e-03  ...   2.7449e-02  4.5293e-02  1.9963e-02\n",
       "  8.4349e-03  4.0743e-02  2.8020e-02  ...   2.1964e-02  4.7688e-02  2.4798e-02\n",
       " [torch.FloatTensor of size 4403x100], Parameter containing:\n",
       " 1.00000e-03 *\n",
       "  9.8018\n",
       "  0.6553\n",
       "  0.5135\n",
       "    ⋮    \n",
       " -5.6697\n",
       "  2.3919\n",
       " -8.1003\n",
       " [torch.FloatTensor of size 4403x1]]"
      ]
     },
     "execution_count": 85,
     "metadata": {},
     "output_type": "execute_result"
    }
   ],
   "source": [
    "# 389223*100, 4403*100 and 1*() bias learnable params\n",
    "\n",
    "[p for p in model.parameters()]"
   ]
  },
  {
   "cell_type": "code",
   "execution_count": 125,
   "metadata": {},
   "outputs": [],
   "source": [
    "def train_epocs(model, epochs=10, lr=0.01, wd=0.0, unsqueeze=False):\n",
    "    parameters = filter(lambda p: p.requires_grad, model.parameters()) # get all parameters which need grad\n",
    "    optimizer = torch.optim.Adam(parameters, lr=lr, weight_decay=wd)\n",
    "    model.train() # into training mode\n",
    "    for i in range(epochs):\n",
    "        running_loss = 0.0\n",
    "        \n",
    "        for j, data in enumerate(train_loader):\n",
    "            users, items, ratings = data\n",
    "            users = Variable(users)\n",
    "            items = Variable(items)\n",
    "            ratings = Variable(ratings).float()\n",
    "            \n",
    "            users = users.cuda() # put on gpu\n",
    "            items = items.cuda()\n",
    "            ratings = ratings.cuda()            \n",
    "            if unsqueeze:\n",
    "                ratings = ratings.unsqueeze(1)\n",
    "            y_hat = model(users, items)\n",
    "            loss = F.mse_loss(y_hat, ratings)\n",
    "            optimizer.zero_grad()\n",
    "            loss.backward()\n",
    "            optimizer.step()\n",
    "            running_loss += loss.data[0]\n",
    "        print(\"training loss for epoch \",i+1, \": \", running_loss/j+1) # used to be loss.data[0]\n",
    "    test_loss(model, unsqueeze)"
   ]
  },
  {
   "cell_type": "code",
   "execution_count": 126,
   "metadata": {},
   "outputs": [
    {
     "name": "stdout",
     "output_type": "stream",
     "text": [
      "torch.Size([19243012])\n"
     ]
    },
    {
     "data": {
      "text/plain": [
       "torch.Size([19243012, 1])"
      ]
     },
     "execution_count": 126,
     "metadata": {},
     "output_type": "execute_result"
    }
   ],
   "source": [
    "# lets see what unsqueeze does\n",
    "\n",
    "ratings = torch.FloatTensor(df_train.rating.values)\n",
    "print(ratings.shape)\n",
    "ratings = ratings.unsqueeze(1)  #.cuda()\n",
    "ratings.shape"
   ]
  },
  {
   "cell_type": "code",
   "execution_count": 137,
   "metadata": {},
   "outputs": [
    {
     "data": {
      "text/plain": [
       "(27, 193)"
      ]
     },
     "execution_count": 137,
     "metadata": {},
     "output_type": "execute_result"
    }
   ],
   "source": [
    "len(val_loader), len(train_loader)"
   ]
  },
  {
   "cell_type": "code",
   "execution_count": 141,
   "metadata": {},
   "outputs": [],
   "source": [
    "# defining test loss which has been used in train_epochs\n",
    "\n",
    "def test_loss(model, unsqueeze=False):\n",
    "    model.eval() # go to evaluation mode\n",
    "    \n",
    "    running_loss = 0.\n",
    "    for j, data in enumerate(val_loader):\n",
    "        users, items, ratings = data\n",
    "        users, items, ratings = Variable(users), Variable(items), Variable(ratings).float()\n",
    "        \n",
    "        users = users.cuda() # put on gpu\n",
    "        items = items.cuda()\n",
    "        ratings = ratings.cuda()       \n",
    "        if unsqueeze:\n",
    "            ratings = ratings.unsqueeze(1)\n",
    "        y_hat = model(users, items)\n",
    "        loss_now = F.mse_loss(y_hat, ratings)\n",
    "        running_loss+= loss_now.data[0]\n",
    "    print(\"validation loss\", \": \", running_loss/len(val_loader)) # j means this many iterations till end"
   ]
  },
  {
   "cell_type": "markdown",
   "metadata": {},
   "source": [
    "Running training loop"
   ]
  },
  {
   "cell_type": "code",
   "execution_count": 142,
   "metadata": {
    "scrolled": false
   },
   "outputs": [
    {
     "name": "stdout",
     "output_type": "stream",
     "text": [
      "training loss for epoch  1 :  1.8164567404116192\n",
      "training loss for epoch  2 :  1.7305999736612043\n",
      "training loss for epoch  3 :  1.681645206796626\n",
      "training loss for epoch  4 :  1.6428651694829264\n",
      "training loss for epoch  5 :  1.609310308160881\n",
      "training loss for epoch  6 :  1.5779485749080777\n",
      "training loss for epoch  7 :  1.5482694699118533\n",
      "training loss for epoch  8 :  1.519811940845102\n",
      "training loss for epoch  9 :  1.4926153641814988\n",
      "training loss for epoch  10 :  1.4670419896331925\n",
      "validation loss :  3.554822330121641\n"
     ]
    }
   ],
   "source": [
    "train_epocs(model, epochs=10, lr=0.01)"
   ]
  },
  {
   "cell_type": "markdown",
   "metadata": {},
   "source": [
    "Validation loss is high, but training loss is low. How to debug this? Let's see distribution of training and validation data"
   ]
  },
  {
   "cell_type": "code",
   "execution_count": 155,
   "metadata": {},
   "outputs": [
    {
     "data": {
      "text/plain": [
       "<matplotlib.axes._subplots.AxesSubplot at 0x7f1121b395f8>"
      ]
     },
     "execution_count": 155,
     "metadata": {},
     "output_type": "execute_result"
    },
    {
     "data": {
      "image/png": "[encoded data removed]",
      "text/plain": [
       "<Figure size 432x288 with 1 Axes>"
      ]
     },
     "metadata": {},
     "output_type": "display_data"
    }
   ],
   "source": [
    "df_train.rating.hist()"
   ]
  },
  {
   "cell_type": "code",
   "execution_count": 156,
   "metadata": {},
   "outputs": [
    {
     "data": {
      "text/plain": [
       "<matplotlib.axes._subplots.AxesSubplot at 0x7f11219f7710>"
      ]
     },
     "execution_count": 156,
     "metadata": {},
     "output_type": "execute_result"
    },
    {
     "data": {
      "image/png": "[encoded data removed]",
      "text/plain": [
       "<Figure size 432x288 with 1 Axes>"
      ]
     },
     "metadata": {},
     "output_type": "display_data"
    }
   ],
   "source": [
    "df_val.rating.hist()"
   ]
  },
  {
   "cell_type": "markdown",
   "metadata": {},
   "source": [
    "Test and train distributions are same. Difference in training and validation losses might not be due to covariance shift then. Let's try `weidht_decay` to prevent overfitting"
   ]
  },
  {
   "cell_type": "code",
   "execution_count": 158,
   "metadata": {},
   "outputs": [
    {
     "name": "stdout",
     "output_type": "stream",
     "text": [
      "training loss for epoch  1 :  1.3959827586077154\n",
      "training loss for epoch  2 :  1.3933158125728369\n",
      "training loss for epoch  3 :  1.4095620855999489\n",
      "training loss for epoch  4 :  1.430343547835946\n",
      "training loss for epoch  5 :  1.452937744402637\n",
      "validation loss :  1.7792416590231437\n"
     ]
    }
   ],
   "source": [
    "train_epocs(model, epochs=5, lr=0.001, wd=1e-5)"
   ]
  },
  {
   "cell_type": "markdown",
   "metadata": {},
   "source": [
    "So, `weight decay` helps"
   ]
  },
  {
   "cell_type": "code",
   "execution_count": 160,
   "metadata": {},
   "outputs": [
    {
     "name": "stdout",
     "output_type": "stream",
     "text": [
      "training loss for epoch  1 :  1.4596793348900974\n",
      "training loss for epoch  2 :  1.4576306299616892\n",
      "training loss for epoch  3 :  1.4560284797723095\n",
      "training loss for epoch  4 :  1.454666225084414\n",
      "training loss for epoch  5 :  1.453537404537201\n",
      "validation loss :  1.709446355148598\n"
     ]
    }
   ],
   "source": [
    "train_epocs(model, epochs=5, lr=0.0001, wd=1e-6) # lower learning rate # lower regularization"
   ]
  },
  {
   "cell_type": "markdown",
   "metadata": {},
   "source": [
    "We can train even further to decrease validation and train loss, but I would carry on with neural net version as it might perform better than MF version. Also, it takes time to train each epoch even on GPUs"
   ]
  },
  {
   "cell_type": "markdown",
   "metadata": {},
   "source": [
    "## Neural Net Model"
   ]
  },
  {
   "cell_type": "markdown",
   "metadata": {},
   "source": [
    "#### without date related columns"
   ]
  },
  {
   "cell_type": "code",
   "execution_count": 161,
   "metadata": {},
   "outputs": [],
   "source": [
    "# Note here there is no matrix multiplication, we could potentially make the embeddings of different sizes.\n",
    "# Here we could get better results by keep playing with regularization.\n",
    "    \n",
    "class CollabFNet(nn.Module):\n",
    "    def __init__(self, num_users, num_items, emb_size=100, n_hidden=10):\n",
    "        super(CollabFNet, self).__init__()\n",
    "        self.user_emb = nn.Embedding(num_users, emb_size)\n",
    "        self.item_emb = nn.Embedding(num_items, emb_size)\n",
    "        self.lin1 = nn.Linear(emb_size*2, n_hidden)\n",
    "        self.lin2 = nn.Linear(n_hidden, 1)\n",
    "        self.drop1 = nn.Dropout(0.1)\n",
    "        self.drop2 = nn.Dropout(0.1) # changed from 0. actually can do only with dropout 1\n",
    "        \n",
    "    def forward(self, u, v):\n",
    "        U = self.user_emb(u)\n",
    "        V = self.item_emb(v)\n",
    "        x = torch.cat([U, V], dim=1)\n",
    "        x = self.drop1(x)\n",
    "        x = F.relu(self.lin1(x))\n",
    "        x = self.drop2(x)\n",
    "        x = self.lin2(x)\n",
    "        return x"
   ]
  },
  {
   "cell_type": "code",
   "execution_count": 167,
   "metadata": {},
   "outputs": [],
   "source": [
    "model_nn = CollabFNet(num_users, num_items, emb_size=100).cuda()"
   ]
  },
  {
   "cell_type": "code",
   "execution_count": 170,
   "metadata": {},
   "outputs": [
    {
     "name": "stdout",
     "output_type": "stream",
     "text": [
      "training loss for epoch  1 :  1.9723842836295566\n",
      "training loss for epoch  2 :  1.896787578550478\n",
      "training loss for epoch  3 :  1.8759232955053449\n",
      "training loss for epoch  4 :  1.8693881261472902\n",
      "training loss for epoch  5 :  1.8592914401864014\n",
      "validation loss :  0.9192858669492934\n"
     ]
    }
   ],
   "source": [
    "train_epocs(model_nn, epochs=5, lr=0.01, unsqueeze=True)"
   ]
  },
  {
   "cell_type": "markdown",
   "metadata": {},
   "source": [
    "Not overfitting yet. Let's try 3 more epochs with same lr"
   ]
  },
  {
   "cell_type": "code",
   "execution_count": 171,
   "metadata": {},
   "outputs": [
    {
     "name": "stdout",
     "output_type": "stream",
     "text": [
      "training loss for epoch  1 :  1.8429234139621258\n",
      "training loss for epoch  2 :  1.8270095620925226\n",
      "training loss for epoch  3 :  1.8185425773262978\n",
      "validation loss :  0.9005276008888528\n"
     ]
    }
   ],
   "source": [
    "train_epocs(model_nn, epochs=3, lr=0.01, unsqueeze=True)"
   ]
  },
  {
   "cell_type": "code",
   "execution_count": 172,
   "metadata": {},
   "outputs": [
    {
     "name": "stdout",
     "output_type": "stream",
     "text": [
      "training loss for epoch  1 :  1.8143312806884446\n",
      "training loss for epoch  2 :  1.8084728177636862\n",
      "training loss for epoch  3 :  1.804810949911674\n",
      "validation loss :  0.9094064809657909\n"
     ]
    }
   ],
   "source": [
    "train_epocs(model_nn, epochs=3, lr=0.01, unsqueeze=True)"
   ]
  },
  {
   "cell_type": "code",
   "execution_count": 182,
   "metadata": {},
   "outputs": [],
   "source": [
    "y_hat = model(Variable(torch.LongTensor(df_val.cust_Id.values)).cuda(),\n",
    "              Variable(torch.LongTensor(df_val.movie_Id.values)).cuda())"
   ]
  },
  {
   "cell_type": "code",
   "execution_count": 199,
   "metadata": {},
   "outputs": [
    {
     "data": {
      "text/plain": [
       "(-66.29216, 77.088524)"
      ]
     },
     "execution_count": 199,
     "metadata": {},
     "output_type": "execute_result"
    }
   ],
   "source": [
    "y_hat.data.cpu().numpy().min(), y_hat.data.cpu().numpy().max()"
   ]
  },
  {
   "cell_type": "markdown",
   "metadata": {},
   "source": [
    "#### Ratings that are being predicted are way off than the range of 0 to 5. Adding last sigmoid layer to predict ratings between 0 and 5 only"
   ]
  },
  {
   "cell_type": "code",
   "execution_count": 68,
   "metadata": {},
   "outputs": [
    {
     "data": {
      "text/html": [
       "<div>\n",
       "<style scoped>\n",
       "    .dataframe tbody tr th:only-of-type {\n",
       "        vertical-align: middle;\n",
       "    }\n",
       "\n",
       "    .dataframe tbody tr th {\n",
       "        vertical-align: top;\n",
       "    }\n",
       "\n",
       "    .dataframe thead th {\n",
       "        text-align: right;\n",
       "    }\n",
       "</style>\n",
       "<table border=\"1\" class=\"dataframe\">\n",
       "  <thead>\n",
       "    <tr style=\"text-align: right;\">\n",
       "      <th></th>\n",
       "      <th>cust_Id</th>\n",
       "      <th>rating</th>\n",
       "      <th>date</th>\n",
       "      <th>movie_Id</th>\n",
       "      <th>year</th>\n",
       "      <th>dow</th>\n",
       "      <th>month</th>\n",
       "    </tr>\n",
       "  </thead>\n",
       "  <tbody>\n",
       "    <tr>\n",
       "      <th>0</th>\n",
       "      <td>0</td>\n",
       "      <td>5.0</td>\n",
       "      <td>1999-11-11</td>\n",
       "      <td>0</td>\n",
       "      <td>0</td>\n",
       "      <td>0</td>\n",
       "      <td>0</td>\n",
       "    </tr>\n",
       "    <tr>\n",
       "      <th>1</th>\n",
       "      <td>0</td>\n",
       "      <td>3.0</td>\n",
       "      <td>1999-11-11</td>\n",
       "      <td>1</td>\n",
       "      <td>0</td>\n",
       "      <td>0</td>\n",
       "      <td>0</td>\n",
       "    </tr>\n",
       "    <tr>\n",
       "      <th>2</th>\n",
       "      <td>0</td>\n",
       "      <td>4.0</td>\n",
       "      <td>1999-11-11</td>\n",
       "      <td>2</td>\n",
       "      <td>0</td>\n",
       "      <td>0</td>\n",
       "      <td>0</td>\n",
       "    </tr>\n",
       "  </tbody>\n",
       "</table>\n",
       "</div>"
      ],
      "text/plain": [
       "   cust_Id  rating       date  movie_Id  year  dow  month\n",
       "0        0     5.0 1999-11-11         0     0    0      0\n",
       "1        0     3.0 1999-11-11         1     0    0      0\n",
       "2        0     4.0 1999-11-11         2     0    0      0"
      ]
     },
     "execution_count": 68,
     "metadata": {},
     "output_type": "execute_result"
    }
   ],
   "source": [
    "df_train[:3]"
   ]
  },
  {
   "cell_type": "code",
   "execution_count": 69,
   "metadata": {},
   "outputs": [
    {
     "data": {
      "text/html": [
       "<div>\n",
       "<style scoped>\n",
       "    .dataframe tbody tr th:only-of-type {\n",
       "        vertical-align: middle;\n",
       "    }\n",
       "\n",
       "    .dataframe tbody tr th {\n",
       "        vertical-align: top;\n",
       "    }\n",
       "\n",
       "    .dataframe thead th {\n",
       "        text-align: right;\n",
       "    }\n",
       "</style>\n",
       "<table border=\"1\" class=\"dataframe\">\n",
       "  <thead>\n",
       "    <tr style=\"text-align: right;\">\n",
       "      <th></th>\n",
       "      <th>cust_Id</th>\n",
       "      <th>rating</th>\n",
       "      <th>date</th>\n",
       "      <th>movie_Id</th>\n",
       "      <th>year</th>\n",
       "      <th>dow</th>\n",
       "      <th>month</th>\n",
       "    </tr>\n",
       "  </thead>\n",
       "  <tbody>\n",
       "    <tr>\n",
       "      <th>19243012</th>\n",
       "      <td>388544</td>\n",
       "      <td>3.0</td>\n",
       "      <td>2005-08-01</td>\n",
       "      <td>2604</td>\n",
       "      <td>6</td>\n",
       "      <td>1</td>\n",
       "      <td>9</td>\n",
       "    </tr>\n",
       "    <tr>\n",
       "      <th>19243013</th>\n",
       "      <td>258382</td>\n",
       "      <td>3.0</td>\n",
       "      <td>2005-08-01</td>\n",
       "      <td>1930</td>\n",
       "      <td>6</td>\n",
       "      <td>1</td>\n",
       "      <td>9</td>\n",
       "    </tr>\n",
       "    <tr>\n",
       "      <th>19243014</th>\n",
       "      <td>141157</td>\n",
       "      <td>4.0</td>\n",
       "      <td>2005-08-01</td>\n",
       "      <td>1930</td>\n",
       "      <td>6</td>\n",
       "      <td>1</td>\n",
       "      <td>9</td>\n",
       "    </tr>\n",
       "  </tbody>\n",
       "</table>\n",
       "</div>"
      ],
      "text/plain": [
       "          cust_Id  rating       date  movie_Id  year  dow  month\n",
       "19243012   388544     3.0 2005-08-01      2604     6    1      9\n",
       "19243013   258382     3.0 2005-08-01      1930     6    1      9\n",
       "19243014   141157     4.0 2005-08-01      1930     6    1      9"
      ]
     },
     "execution_count": 69,
     "metadata": {},
     "output_type": "execute_result"
    }
   ],
   "source": [
    "df_val[:3]"
   ]
  },
  {
   "cell_type": "code",
   "execution_count": 10,
   "metadata": {},
   "outputs": [],
   "source": [
    "# yr_mean = df_train.year.mean()\n",
    "# dow_mean = df_train.dow.mean()\n",
    "# mnth_mean = df_train.month.mean()\n",
    "\n",
    "# yr_std = df_train.year.std()\n",
    "# dow_std = df_train.dow.std()\n",
    "# mnth_std = df_train.month.std()"
   ]
  },
  {
   "cell_type": "code",
   "execution_count": 11,
   "metadata": {},
   "outputs": [],
   "source": [
    "# df_train['year'] = (df_train.year - yr_mean)/ yr_std\n",
    "# df_train['dow'] = (df_train.dow - dow_mean)/ dow_std\n",
    "# df_train['month'] = (df_train.month - mnth_mean)/ mnth_std"
   ]
  },
  {
   "cell_type": "code",
   "execution_count": 12,
   "metadata": {},
   "outputs": [],
   "source": [
    "# df_val['year'] = (df_val.year - yr_mean)/ yr_std\n",
    "# df_val['dow'] = (df_val.dow - dow_mean)/ dow_std\n",
    "# df_val['month'] = (df_val.month - mnth_mean)/ mnth_std"
   ]
  },
  {
   "cell_type": "code",
   "execution_count": 10,
   "metadata": {},
   "outputs": [],
   "source": [
    "import torch\n",
    "from torch.utils import data\n",
    "\n",
    "class Dataset2(data.Dataset):\n",
    "    \n",
    "    'Characterizes a dataset for PyTorch'\n",
    "    def __init__(self, df):\n",
    "        'Initialization'\n",
    "        self.movies = torch.LongTensor(df.movie_Id.values)\n",
    "        self.users = torch.LongTensor(df.cust_Id.values)\n",
    "        self.ratings = torch.FloatTensor(df.rating.values)\n",
    "        self.year = torch.LongTensor(df.year.values)\n",
    "        self.month = torch.LongTensor(df.month.values)\n",
    "        self.dow = torch.LongTensor(df.dow.values)        \n",
    "    \n",
    "    def __len__(self):\n",
    "        'Denotes the total number of samples'\n",
    "        return len(self.ratings)\n",
    "    \n",
    "    def __getitem__(self, index):\n",
    "        'Generates one sample of data'\n",
    "        # Select sample\n",
    "        Mov = self.movies[index]\n",
    "        Usr = self.users[index]\n",
    "        Yr = self.year[index]\n",
    "        Mon = self.month[index]\n",
    "        Dow = self.dow[index]\n",
    "        \n",
    "        R = self.ratings[index]\n",
    "\n",
    "        return [Mov, Usr, Yr, Mon, Dow, R]"
   ]
  },
  {
   "cell_type": "code",
   "execution_count": 11,
   "metadata": {},
   "outputs": [],
   "source": [
    "train_dataset2 = Dataset2(df_train)\n",
    "train_loader2 = torch.utils.data.DataLoader(train_dataset2, batch_size=50000, shuffle=True)"
   ]
  },
  {
   "cell_type": "code",
   "execution_count": 12,
   "metadata": {},
   "outputs": [],
   "source": [
    "# validation dataloader\n",
    "\n",
    "val_dataset2 = Dataset2(df_val)\n",
    "val_loader2 = torch.utils.data.DataLoader(val_dataset2, batch_size=50000, shuffle=False)"
   ]
  },
  {
   "cell_type": "code",
   "execution_count": 13,
   "metadata": {},
   "outputs": [
    {
     "data": {
      "text/plain": [
       "[\n",
       "  0\n",
       "  1\n",
       " [torch.LongTensor of size 2], \n",
       "  0\n",
       "  0\n",
       " [torch.LongTensor of size 2], \n",
       "  0\n",
       "  0\n",
       " [torch.LongTensor of size 2], \n",
       "  0\n",
       "  0\n",
       " [torch.LongTensor of size 2], \n",
       "  0\n",
       "  0\n",
       " [torch.LongTensor of size 2], \n",
       "  5\n",
       "  3\n",
       " [torch.FloatTensor of size 2]]"
      ]
     },
     "execution_count": 13,
     "metadata": {},
     "output_type": "execute_result"
    }
   ],
   "source": [
    "train_dataset2[:2]"
   ]
  },
  {
   "cell_type": "markdown",
   "metadata": {},
   "source": [
    "Result := ((Input - InputLow) / (InputHigh - InputLow)) * (OutputHigh - OutputLow) + OutputLow"
   ]
  },
  {
   "cell_type": "code",
   "execution_count": 23,
   "metadata": {},
   "outputs": [],
   "source": [
    "# Note here there is no matrix multiplication, we could potentially make the embeddings of different sizes.\n",
    "# Here we could get better results by keep playing with regularization.\n",
    "    \n",
    "class CollabFNet2(nn.Module):\n",
    "    def __init__(self, \n",
    "                 num_items,\n",
    "                 num_users, \n",
    "                 num_yrs, \n",
    "                 num_months,\n",
    "                 num_dow, \n",
    "                 emb_size=100, \n",
    "                 emb_size2 = 5, n_hidden=20):\n",
    "        \n",
    "        super(CollabFNet2, self).__init__()\n",
    "        self.user_emb = nn.Embedding(num_users, emb_size)\n",
    "        self.item_emb = nn.Embedding(num_items, emb_size)\n",
    "        self.yr_emb = nn.Embedding(num_yrs, emb_size2)\n",
    "        self.dow_emb = nn.Embedding(num_dow, emb_size2)\n",
    "        self.month_emb = nn.Embedding(num_months, emb_size2)\n",
    "        \n",
    "        self.lin1 = nn.Linear(emb_size*2 + emb_size2*3, n_hidden)\n",
    "        self.lin2 = nn.Linear(n_hidden, 1)\n",
    "        \n",
    "        self.drop1 = nn.Dropout(0.1)\n",
    "        self.drop2 = nn.Dropout(0.1)  # changed from 0. actually can do only with dropout 1\n",
    "        \n",
    "    def forward(self, Mov, Usr, Yr, Mon, Dow):\n",
    "    \n",
    "        Usr = self.user_emb(Usr)\n",
    "        Mov = self.item_emb(Mov)\n",
    "        Yr = self.yr_emb(Yr)\n",
    "        Dow = self.dow_emb(Dow)\n",
    "        Mon = self.month_emb(Mon)        \n",
    "        \n",
    "        x = torch.cat([Mov,Usr, Yr, Mon, Dow],dim=1)\n",
    "        x = self.drop1(x)\n",
    "        x = F.relu(self.lin1(x))\n",
    "        x = self.drop2(x)\n",
    "        x = self.lin2(x)\n",
    "        return F.sigmoid(x)*4 + 1 # to make it b/w 1 to 5"
   ]
  },
  {
   "cell_type": "code",
   "execution_count": 15,
   "metadata": {},
   "outputs": [],
   "source": [
    "def train_epocs2(model, epochs=10, lr=0.01, wd=0.0, unsqueeze=False):\n",
    "    parameters = filter(lambda p: p.requires_grad, model.parameters()) # get all parameters which need grad\n",
    "    optimizer = torch.optim.Adam(parameters, lr=lr, weight_decay=wd)\n",
    "    for i in range(epochs):\n",
    "        model.train() # into training mode\n",
    "        running_loss = 0.0\n",
    "        \n",
    "        for j, (items, users, yr, month, dow, ratings) in enumerate(train_loader2):\n",
    "            users = Variable(users).cuda()\n",
    "            items = Variable(items).cuda()\n",
    "            ratings = Variable(ratings).float().cuda()\n",
    "            yr = Variable(yr).cuda()\n",
    "            month = Variable(month).cuda()\n",
    "            dow = Variable(dow).cuda()            \n",
    "            \n",
    "            if unsqueeze:\n",
    "                ratings = ratings.unsqueeze(1)\n",
    "            y_hat = model(items, users, yr, month, dow)\n",
    "            loss = F.mse_loss(y_hat, ratings)\n",
    "            optimizer.zero_grad()\n",
    "            loss.backward()\n",
    "            optimizer.step()\n",
    "            running_loss += loss.data[0]\n",
    "        print(\"training loss for epoch \",i+1, \": \", running_loss/j+1) # used to be loss.data[0]\n",
    "        test_loss2(model, unsqueeze)"
   ]
  },
  {
   "cell_type": "code",
   "execution_count": 21,
   "metadata": {},
   "outputs": [],
   "source": [
    "# defining test loss which has been used in train_epochs\n",
    "\n",
    "def test_loss2(model, unsqueeze=False):\n",
    "    model.eval() # go to evaluation mode\n",
    "    \n",
    "    running_loss = 0.\n",
    "    for j, (items, users, yr, month, dow, ratings) in enumerate(val_loader2):\n",
    "        users = Variable(users).cuda()\n",
    "        items = Variable(items).cuda()\n",
    "        ratings = Variable(ratings).float().cuda()\n",
    "        yr = Variable(yr).cuda()\n",
    "        month = Variable(month).cuda()\n",
    "        dow = Variable(dow).cuda()\n",
    "        \n",
    "        if unsqueeze:\n",
    "            ratings = ratings.unsqueeze(1)\n",
    "        y_hat = model(items, users, yr, month, dow)\n",
    "        loss_now = F.mse_loss(y_hat, ratings)\n",
    "        running_loss+= loss_now.data[0]\n",
    "    print(\"validation loss\", \": \", running_loss/len(val_loader2)) # j means this many iterations till end"
   ]
  },
  {
   "cell_type": "code",
   "execution_count": 18,
   "metadata": {},
   "outputs": [
    {
     "name": "stdout",
     "output_type": "stream",
     "text": [
      "470758 4499 7 7 12\n"
     ]
    }
   ],
   "source": [
    "# instantiating model class\n",
    "num_users = len(df.cust_Id.unique())\n",
    "num_items = len(df.movie_Id.unique())\n",
    "num_yrs = len(df.year.unique())\n",
    "num_dow =  len(df.dow.unique())\n",
    "num_months = len(df.month.unique()) \n",
    "\n",
    "print(num_users, num_items, num_yrs, num_dow, num_months)"
   ]
  },
  {
   "cell_type": "code",
   "execution_count": 19,
   "metadata": {},
   "outputs": [],
   "source": [
    "model_nn2 = CollabFNet2(num_items,\n",
    "                 num_users, \n",
    "                 num_yrs, \n",
    "                 num_months,\n",
    "                 num_dow, \n",
    "                        emb_size=50, emb_size2=5).cuda()"
   ]
  },
  {
   "cell_type": "code",
   "execution_count": 20,
   "metadata": {},
   "outputs": [
    {
     "data": {
      "text/plain": [
       "CollabFNet2(\n",
       "  (user_emb): Embedding(470758, 50)\n",
       "  (item_emb): Embedding(4499, 50)\n",
       "  (yr_emb): Embedding(7, 5)\n",
       "  (dow_emb): Embedding(7, 5)\n",
       "  (month_emb): Embedding(12, 5)\n",
       "  (lin1): Linear(in_features=115, out_features=20, bias=True)\n",
       "  (lin2): Linear(in_features=20, out_features=1, bias=True)\n",
       ")"
      ]
     },
     "execution_count": 20,
     "metadata": {},
     "output_type": "execute_result"
    }
   ],
   "source": [
    "model_nn2"
   ]
  },
  {
   "cell_type": "code",
   "execution_count": 25,
   "metadata": {
    "scrolled": false
   },
   "outputs": [
    {
     "name": "stdout",
     "output_type": "stream",
     "text": [
      "training loss for epoch  1 :  1.960017153682808\n",
      "validation loss :  1.0423250905017263\n",
      "training loss for epoch  2 :  1.884606457160165\n",
      "validation loss :  1.0395030729549448\n",
      "training loss for epoch  3 :  1.8819063971750438\n",
      "validation loss :  1.0340662076301181\n",
      "training loss for epoch  4 :  1.8879277695280812\n",
      "validation loss :  1.035488827326863\n",
      "training loss for epoch  5 :  1.8914600601419806\n",
      "validation loss :  1.0323809864594764\n"
     ]
    }
   ],
   "source": [
    "train_epocs2(model_nn2, epochs=5, lr=0.01, wd=1e-5,unsqueeze=False)"
   ]
  },
  {
   "cell_type": "markdown",
   "metadata": {},
   "source": [
    "Validation loss is increasing after some epochs. Lets try to find right learning rate using lr finder"
   ]
  },
  {
   "cell_type": "code",
   "execution_count": 32,
   "metadata": {},
   "outputs": [],
   "source": [
    "def lrfinder(start, end, model, train_loader2):\n",
    "    model.train() # into training mode\n",
    "    lrs = np.linspace(start, end, len(train_loader2))\n",
    "    parameters = filter(lambda p: p.requires_grad, model.parameters()) # get all parameters which need grad\n",
    "    optimizer = torch.optim.Adam(parameters, start)\n",
    "    losses = []\n",
    "    \n",
    "    for j, (items, users, yr, month, dow, ratings) in enumerate(train_loader2):\n",
    "        optimizer.param_groups[0]['lr'] =lrs[j]\n",
    "\n",
    "        users = Variable(users).cuda()\n",
    "        items = Variable(items).cuda()\n",
    "        ratings = Variable(ratings).float().cuda()\n",
    "        yr = Variable(yr).cuda()\n",
    "        month = Variable(month).cuda()\n",
    "        dow = Variable(dow).cuda()            \n",
    "        y_hat = model(items, users, yr, month, dow)\n",
    "        loss = F.mse_loss(y_hat, ratings)\n",
    "        optimizer.zero_grad()\n",
    "        loss.backward()\n",
    "        optimizer.step()\n",
    "        losses.append(loss.data[0])\n",
    "    plt.plot(lrs, losses)"
   ]
  },
  {
   "cell_type": "code",
   "execution_count": 39,
   "metadata": {},
   "outputs": [],
   "source": [
    "model_nn_copy = CollabFNet2(num_items,\n",
    "                 num_users, \n",
    "                 num_yrs, \n",
    "                 num_months,\n",
    "                 num_dow, \n",
    "                        emb_size=100, emb_size2=5).cuda()"
   ]
  },
  {
   "cell_type": "code",
   "execution_count": 40,
   "metadata": {
    "scrolled": true
   },
   "outputs": [
    {
     "data": {
      "image/png": "[encoded data removed]",
      "text/plain": [
       "<Figure size 432x288 with 1 Axes>"
      ]
     },
     "metadata": {},
     "output_type": "display_data"
    }
   ],
   "source": [
    "lrfinder(0.001, 0.2, model_nn_copy, train_loader2)"
   ]
  },
  {
   "cell_type": "markdown",
   "metadata": {},
   "source": [
    "As taught in fastai class, learning rate is starting to increase after 0.05. We can choose 0.025 as good learning rate"
   ]
  },
  {
   "cell_type": "code",
   "execution_count": 42,
   "metadata": {},
   "outputs": [
    {
     "name": "stdout",
     "output_type": "stream",
     "text": [
      "training loss for epoch  1 :  1.8758557327091694\n",
      "validation loss :  1.0232972564156522\n",
      "training loss for epoch  2 :  1.842201673425734\n",
      "validation loss :  1.02631219883555\n",
      "training loss for epoch  3 :  1.832166446528087\n",
      "validation loss :  1.028887576049136\n",
      "training loss for epoch  4 :  1.8295468958094716\n",
      "validation loss :  1.0362612998362668\n",
      "training loss for epoch  5 :  1.8241126706513264\n",
      "validation loss :  1.0324596455416728\n"
     ]
    }
   ],
   "source": [
    "train_epocs2(model_nn2, epochs=5, lr=0.025, unsqueeze=True)"
   ]
  },
  {
   "cell_type": "markdown",
   "metadata": {},
   "source": [
    "Ok. Training going down but validation up. let's add some regularization"
   ]
  },
  {
   "cell_type": "code",
   "execution_count": 44,
   "metadata": {},
   "outputs": [
    {
     "name": "stdout",
     "output_type": "stream",
     "text": [
      "training loss for epoch  1 :  1.8878458694865308\n",
      "validation loss :  1.0313210849909438\n",
      "training loss for epoch  2 :  1.8936595402968428\n",
      "validation loss :  1.028655474333419\n",
      "training loss for epoch  3 :  1.8919598865322769\n",
      "validation loss :  1.0280797334061456\n",
      "training loss for epoch  4 :  1.891211919952184\n",
      "validation loss :  1.0368618854542369\n",
      "training loss for epoch  5 :  1.8898136398444572\n",
      "validation loss :  1.0352515320187992\n"
     ]
    }
   ],
   "source": [
    "train_epocs2(model_nn2, epochs=5, lr=0.025,wd=1e-5, unsqueeze=True)"
   ]
  },
  {
   "cell_type": "code",
   "execution_count": 48,
   "metadata": {},
   "outputs": [
    {
     "name": "stdout",
     "output_type": "stream",
     "text": [
      "training loss for epoch  1 :  1.8544896307090917\n",
      "validation loss :  1.0219936254098243\n",
      "training loss for epoch  2 :  1.8040295336395502\n",
      "validation loss :  1.0173002376998823\n",
      "training loss for epoch  3 :  1.770378882996738\n",
      "validation loss :  1.0184230355872321\n",
      "training loss for epoch  4 :  1.7562920916825533\n",
      "validation loss :  1.0282377926344723\n",
      "training loss for epoch  5 :  1.7439961267324784\n",
      "validation loss :  1.0265097120373519\n"
     ]
    }
   ],
   "source": [
    "train_epocs2(model_nn2, epochs=5, lr=0.001,wd=1e-6, unsqueeze=True)"
   ]
  },
  {
   "cell_type": "code",
   "execution_count": 46,
   "metadata": {},
   "outputs": [],
   "source": [
    "# y_hat = model_nn2(Variable(torch.LongTensor(df_val.cust_Id.values)).cuda(),\n",
    "#               Variable(torch.LongTensor(df_val.movie_Id.values)).cuda())"
   ]
  },
  {
   "cell_type": "code",
   "execution_count": 47,
   "metadata": {},
   "outputs": [],
   "source": [
    "# y_hat.data.cpu().numpy().min(), y_hat.data.cpu().numpy().max()"
   ]
  },
  {
   "cell_type": "markdown",
   "metadata": {},
   "source": [
    "### End"
   ]
  }
 ],
 "metadata": {
  "kernelspec": {
   "display_name": "Python 3",
   "language": "python",
   "name": "python3"
  },
  "language_info": {
   "codemirror_mode": {
    "name": "ipython",
    "version": 3
   },
   "file_extension": ".py",
   "mimetype": "text/x-python",
   "name": "python",
   "nbconvert_exporter": "python",
   "pygments_lexer": "ipython3",
   "version": "3.6.4"
  }
 },
 "nbformat": 4,
 "nbformat_minor": 2
}
